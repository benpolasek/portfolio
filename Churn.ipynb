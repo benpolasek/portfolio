{
 "cells": [
  {
   "cell_type": "markdown",
   "metadata": {},
   "source": [
    "# Customer Churn Dataset"
   ]
  },
  {
   "cell_type": "markdown",
   "metadata": {},
   "source": [
    "The intial work surrounded loading the data, analyzing the data and preparing the attibiutes that would be used for modeling."
   ]
  },
  {
   "cell_type": "markdown",
   "metadata": {},
   "source": [
    "# PART 1 - Data Preparation and Pre-prediction Analysis"
   ]
  },
  {
   "cell_type": "markdown",
   "metadata": {},
   "source": [
    "## A) Initial data load"
   ]
  },
  {
   "cell_type": "code",
   "execution_count": 1,
   "metadata": {},
   "outputs": [],
   "source": [
    "#Import Required Libraries\n",
    "\n",
    "#numpy and pandas for data investigation and cleanup\n",
    "import numpy as np\n",
    "import pandas as pd\n",
    "\n",
    "#pprint\n",
    "import pprint\n",
    "\n",
    "#matplotlib and seaborn for visuals\n",
    "import matplotlib.pyplot as plt\n",
    "import seaborn as sns\n",
    "%matplotlib inline\n",
    "plt.style.use('seaborn-whitegrid')\n",
    "\n",
    "#sklearn for machine learning\n",
    "from sklearn import tree\n",
    "#from c.linear_model import LogisticRegression\n",
    "#from sklearn.svm import SVC, LinearSVC\n",
    "#from sklearn.ensemble import RandomForestClassifier\n",
    "#from sklearn.neighbors import KNeighborsClassifier\n",
    "#from sklearn.naive_bayes import GaussianNB\n",
    "#from sklearn.linear_model import Perceptron\n",
    "#from sklearn.linear_model import SGDClassifier\n",
    "#from sklearn.tree import DecisionTreeClassifier\n",
    "\n",
    "\n",
    "\n",
    "\n",
    "\n",
    "\n",
    "\n",
    "\n",
    "\n",
    "\n"
   ]
  },
  {
   "cell_type": "code",
   "execution_count": 2,
   "metadata": {
    "scrolled": true
   },
   "outputs": [
    {
     "name": "stdout",
     "output_type": "stream",
     "text": [
      "<class 'pandas.core.frame.DataFrame'>\n",
      "RangeIndex: 3333 entries, 0 to 3332\n",
      "Data columns (total 21 columns):\n",
      "State             3333 non-null object\n",
      "Account Length    3333 non-null int64\n",
      "Area Code         3333 non-null int64\n",
      "Phone             3333 non-null object\n",
      "Int'l Plan        3333 non-null object\n",
      "VMail Plan        3333 non-null object\n",
      "VMail Message     3333 non-null int64\n",
      "Day Mins          3333 non-null float64\n",
      "Day Calls         3333 non-null int64\n",
      "Day Charge        3333 non-null float64\n",
      "Eve Mins          3333 non-null float64\n",
      "Eve Calls         3333 non-null int64\n",
      "Eve Charge        3333 non-null float64\n",
      "Night Mins        3333 non-null float64\n",
      "Night Calls       3333 non-null int64\n",
      "Night Charge      3333 non-null float64\n",
      "Intl Mins         3333 non-null float64\n",
      "Intl Calls        3333 non-null int64\n",
      "Intl Charge       3333 non-null float64\n",
      "CustServ Calls    3333 non-null int64\n",
      "Churn?            3333 non-null object\n",
      "dtypes: float64(8), int64(8), object(5)\n",
      "memory usage: 546.9+ KB\n"
     ]
    }
   ],
   "source": [
    "#Import the customer_churn.csv dataset\n",
    "df = pd.read_csv('customer_churn.csv')\n",
    "\n",
    "#Verify import was successful and check for missing values\n",
    "#Confirmed and there is no missing data\n",
    "df.info()\n",
    "\n",
    "#See column names\n",
    "#print(df.columns.values)\n"
   ]
  },
  {
   "cell_type": "markdown",
   "metadata": {},
   "source": [
    "## B) What are the attribute type? (e.g. categorical, ordinal or quantitative) "
   ]
  },
  {
   "cell_type": "code",
   "execution_count": 3,
   "metadata": {},
   "outputs": [
    {
     "data": {
      "text/html": [
       "<div>\n",
       "<style scoped>\n",
       "    .dataframe tbody tr th:only-of-type {\n",
       "        vertical-align: middle;\n",
       "    }\n",
       "\n",
       "    .dataframe tbody tr th {\n",
       "        vertical-align: top;\n",
       "    }\n",
       "\n",
       "    .dataframe thead th {\n",
       "        text-align: right;\n",
       "    }\n",
       "</style>\n",
       "<table border=\"1\" class=\"dataframe\">\n",
       "  <thead>\n",
       "    <tr style=\"text-align: right;\">\n",
       "      <th></th>\n",
       "      <th>State</th>\n",
       "      <th>Account Length</th>\n",
       "      <th>Area Code</th>\n",
       "      <th>Phone</th>\n",
       "      <th>Int'l Plan</th>\n",
       "      <th>VMail Plan</th>\n",
       "      <th>VMail Message</th>\n",
       "      <th>Day Mins</th>\n",
       "      <th>Day Calls</th>\n",
       "      <th>Day Charge</th>\n",
       "      <th>...</th>\n",
       "      <th>Eve Calls</th>\n",
       "      <th>Eve Charge</th>\n",
       "      <th>Night Mins</th>\n",
       "      <th>Night Calls</th>\n",
       "      <th>Night Charge</th>\n",
       "      <th>Intl Mins</th>\n",
       "      <th>Intl Calls</th>\n",
       "      <th>Intl Charge</th>\n",
       "      <th>CustServ Calls</th>\n",
       "      <th>Churn?</th>\n",
       "    </tr>\n",
       "  </thead>\n",
       "  <tbody>\n",
       "    <tr>\n",
       "      <th>0</th>\n",
       "      <td>KS</td>\n",
       "      <td>128</td>\n",
       "      <td>415</td>\n",
       "      <td>382-4657</td>\n",
       "      <td>no</td>\n",
       "      <td>yes</td>\n",
       "      <td>25</td>\n",
       "      <td>265.1</td>\n",
       "      <td>110</td>\n",
       "      <td>45.07</td>\n",
       "      <td>...</td>\n",
       "      <td>99</td>\n",
       "      <td>16.78</td>\n",
       "      <td>244.7</td>\n",
       "      <td>91</td>\n",
       "      <td>11.01</td>\n",
       "      <td>10.0</td>\n",
       "      <td>3</td>\n",
       "      <td>2.70</td>\n",
       "      <td>1</td>\n",
       "      <td>False.</td>\n",
       "    </tr>\n",
       "    <tr>\n",
       "      <th>1</th>\n",
       "      <td>OH</td>\n",
       "      <td>107</td>\n",
       "      <td>415</td>\n",
       "      <td>371-7191</td>\n",
       "      <td>no</td>\n",
       "      <td>yes</td>\n",
       "      <td>26</td>\n",
       "      <td>161.6</td>\n",
       "      <td>123</td>\n",
       "      <td>27.47</td>\n",
       "      <td>...</td>\n",
       "      <td>103</td>\n",
       "      <td>16.62</td>\n",
       "      <td>254.4</td>\n",
       "      <td>103</td>\n",
       "      <td>11.45</td>\n",
       "      <td>13.7</td>\n",
       "      <td>3</td>\n",
       "      <td>3.70</td>\n",
       "      <td>1</td>\n",
       "      <td>False.</td>\n",
       "    </tr>\n",
       "    <tr>\n",
       "      <th>2</th>\n",
       "      <td>NJ</td>\n",
       "      <td>137</td>\n",
       "      <td>415</td>\n",
       "      <td>358-1921</td>\n",
       "      <td>no</td>\n",
       "      <td>no</td>\n",
       "      <td>0</td>\n",
       "      <td>243.4</td>\n",
       "      <td>114</td>\n",
       "      <td>41.38</td>\n",
       "      <td>...</td>\n",
       "      <td>110</td>\n",
       "      <td>10.30</td>\n",
       "      <td>162.6</td>\n",
       "      <td>104</td>\n",
       "      <td>7.32</td>\n",
       "      <td>12.2</td>\n",
       "      <td>5</td>\n",
       "      <td>3.29</td>\n",
       "      <td>0</td>\n",
       "      <td>False.</td>\n",
       "    </tr>\n",
       "    <tr>\n",
       "      <th>3</th>\n",
       "      <td>OH</td>\n",
       "      <td>84</td>\n",
       "      <td>408</td>\n",
       "      <td>375-9999</td>\n",
       "      <td>yes</td>\n",
       "      <td>no</td>\n",
       "      <td>0</td>\n",
       "      <td>299.4</td>\n",
       "      <td>71</td>\n",
       "      <td>50.90</td>\n",
       "      <td>...</td>\n",
       "      <td>88</td>\n",
       "      <td>5.26</td>\n",
       "      <td>196.9</td>\n",
       "      <td>89</td>\n",
       "      <td>8.86</td>\n",
       "      <td>6.6</td>\n",
       "      <td>7</td>\n",
       "      <td>1.78</td>\n",
       "      <td>2</td>\n",
       "      <td>False.</td>\n",
       "    </tr>\n",
       "    <tr>\n",
       "      <th>4</th>\n",
       "      <td>OK</td>\n",
       "      <td>75</td>\n",
       "      <td>415</td>\n",
       "      <td>330-6626</td>\n",
       "      <td>yes</td>\n",
       "      <td>no</td>\n",
       "      <td>0</td>\n",
       "      <td>166.7</td>\n",
       "      <td>113</td>\n",
       "      <td>28.34</td>\n",
       "      <td>...</td>\n",
       "      <td>122</td>\n",
       "      <td>12.61</td>\n",
       "      <td>186.9</td>\n",
       "      <td>121</td>\n",
       "      <td>8.41</td>\n",
       "      <td>10.1</td>\n",
       "      <td>3</td>\n",
       "      <td>2.73</td>\n",
       "      <td>3</td>\n",
       "      <td>False.</td>\n",
       "    </tr>\n",
       "  </tbody>\n",
       "</table>\n",
       "<p>5 rows × 21 columns</p>\n",
       "</div>"
      ],
      "text/plain": [
       "  State  Account Length  Area Code     Phone Int'l Plan VMail Plan  \\\n",
       "0    KS             128        415  382-4657         no        yes   \n",
       "1    OH             107        415  371-7191         no        yes   \n",
       "2    NJ             137        415  358-1921         no         no   \n",
       "3    OH              84        408  375-9999        yes         no   \n",
       "4    OK              75        415  330-6626        yes         no   \n",
       "\n",
       "   VMail Message  Day Mins  Day Calls  Day Charge   ...    Eve Calls  \\\n",
       "0             25     265.1        110       45.07   ...           99   \n",
       "1             26     161.6        123       27.47   ...          103   \n",
       "2              0     243.4        114       41.38   ...          110   \n",
       "3              0     299.4         71       50.90   ...           88   \n",
       "4              0     166.7        113       28.34   ...          122   \n",
       "\n",
       "   Eve Charge  Night Mins  Night Calls  Night Charge  Intl Mins  Intl Calls  \\\n",
       "0       16.78       244.7           91         11.01       10.0           3   \n",
       "1       16.62       254.4          103         11.45       13.7           3   \n",
       "2       10.30       162.6          104          7.32       12.2           5   \n",
       "3        5.26       196.9           89          8.86        6.6           7   \n",
       "4       12.61       186.9          121          8.41       10.1           3   \n",
       "\n",
       "   Intl Charge  CustServ Calls  Churn?  \n",
       "0         2.70               1  False.  \n",
       "1         3.70               1  False.  \n",
       "2         3.29               0  False.  \n",
       "3         1.78               2  False.  \n",
       "4         2.73               3  False.  \n",
       "\n",
       "[5 rows x 21 columns]"
      ]
     },
     "execution_count": 3,
     "metadata": {},
     "output_type": "execute_result"
    }
   ],
   "source": [
    "#Preview the data, to determine types\n",
    "df.head()"
   ]
  },
  {
   "cell_type": "markdown",
   "metadata": {},
   "source": [
    "__What are the categorical attributes?__\n",
    "\n",
    "Categorical: State, Area Code, Phone, Int'l Plan (binary), VMail Message (binary), Churn (class variable). \n",
    "\n",
    "__What are the numerical attributes?__ \n",
    "\n",
    "Continous: Account Length, Day Mins, Day Charge, Eve Mins, Eve Charge, Night Mins, Night Charge, Intl Mins, Intl Charge\n",
    "Discrete: VMail Message, Day Calls, Eve Calls, Night Calls, Intl Calls, CustServ Calls"
   ]
  },
  {
   "cell_type": "markdown",
   "metadata": {},
   "source": [
    "# C) Find the max, min, mean and standard deviation of each attribute"
   ]
  },
  {
   "cell_type": "markdown",
   "metadata": {},
   "source": [
    "Use describe to first gather this data for the categorical values and convert area code to object as this field is not numeric."
   ]
  },
  {
   "cell_type": "code",
   "execution_count": 4,
   "metadata": {},
   "outputs": [
    {
     "data": {
      "text/html": [
       "<div>\n",
       "<style scoped>\n",
       "    .dataframe tbody tr th:only-of-type {\n",
       "        vertical-align: middle;\n",
       "    }\n",
       "\n",
       "    .dataframe tbody tr th {\n",
       "        vertical-align: top;\n",
       "    }\n",
       "\n",
       "    .dataframe thead th {\n",
       "        text-align: right;\n",
       "    }\n",
       "</style>\n",
       "<table border=\"1\" class=\"dataframe\">\n",
       "  <thead>\n",
       "    <tr style=\"text-align: right;\">\n",
       "      <th></th>\n",
       "      <th>State</th>\n",
       "      <th>Area Code</th>\n",
       "      <th>Phone</th>\n",
       "      <th>Int'l Plan</th>\n",
       "      <th>VMail Plan</th>\n",
       "      <th>Churn?</th>\n",
       "    </tr>\n",
       "  </thead>\n",
       "  <tbody>\n",
       "    <tr>\n",
       "      <th>count</th>\n",
       "      <td>3333</td>\n",
       "      <td>3333</td>\n",
       "      <td>3333</td>\n",
       "      <td>3333</td>\n",
       "      <td>3333</td>\n",
       "      <td>3333</td>\n",
       "    </tr>\n",
       "    <tr>\n",
       "      <th>unique</th>\n",
       "      <td>51</td>\n",
       "      <td>3</td>\n",
       "      <td>3333</td>\n",
       "      <td>2</td>\n",
       "      <td>2</td>\n",
       "      <td>2</td>\n",
       "    </tr>\n",
       "    <tr>\n",
       "      <th>top</th>\n",
       "      <td>WV</td>\n",
       "      <td>415</td>\n",
       "      <td>381-2745</td>\n",
       "      <td>no</td>\n",
       "      <td>no</td>\n",
       "      <td>False.</td>\n",
       "    </tr>\n",
       "    <tr>\n",
       "      <th>freq</th>\n",
       "      <td>106</td>\n",
       "      <td>1655</td>\n",
       "      <td>1</td>\n",
       "      <td>3010</td>\n",
       "      <td>2411</td>\n",
       "      <td>2850</td>\n",
       "    </tr>\n",
       "  </tbody>\n",
       "</table>\n",
       "</div>"
      ],
      "text/plain": [
       "       State  Area Code     Phone Int'l Plan VMail Plan  Churn?\n",
       "count   3333       3333      3333       3333       3333    3333\n",
       "unique    51          3      3333          2          2       2\n",
       "top       WV        415  381-2745         no         no  False.\n",
       "freq     106       1655         1       3010       2411    2850"
      ]
     },
     "execution_count": 4,
     "metadata": {},
     "output_type": "execute_result"
    }
   ],
   "source": [
    "df['Area Code'] = df['Area Code'].astype(object)\n",
    "df.describe(include=['O'])\n",
    "\n"
   ]
  },
  {
   "cell_type": "markdown",
   "metadata": {},
   "source": [
    "Use describe again to this time gather the data for numerical values."
   ]
  },
  {
   "cell_type": "code",
   "execution_count": 5,
   "metadata": {},
   "outputs": [
    {
     "data": {
      "text/html": [
       "<div>\n",
       "<style scoped>\n",
       "    .dataframe tbody tr th:only-of-type {\n",
       "        vertical-align: middle;\n",
       "    }\n",
       "\n",
       "    .dataframe tbody tr th {\n",
       "        vertical-align: top;\n",
       "    }\n",
       "\n",
       "    .dataframe thead th {\n",
       "        text-align: right;\n",
       "    }\n",
       "</style>\n",
       "<table border=\"1\" class=\"dataframe\">\n",
       "  <thead>\n",
       "    <tr style=\"text-align: right;\">\n",
       "      <th></th>\n",
       "      <th>Account Length</th>\n",
       "      <th>VMail Message</th>\n",
       "      <th>Day Mins</th>\n",
       "      <th>Day Calls</th>\n",
       "      <th>Day Charge</th>\n",
       "      <th>Eve Mins</th>\n",
       "      <th>Eve Calls</th>\n",
       "      <th>Eve Charge</th>\n",
       "      <th>Night Mins</th>\n",
       "      <th>Night Calls</th>\n",
       "      <th>Night Charge</th>\n",
       "      <th>Intl Mins</th>\n",
       "      <th>Intl Calls</th>\n",
       "      <th>Intl Charge</th>\n",
       "      <th>CustServ Calls</th>\n",
       "    </tr>\n",
       "  </thead>\n",
       "  <tbody>\n",
       "    <tr>\n",
       "      <th>count</th>\n",
       "      <td>3333.000000</td>\n",
       "      <td>3333.000000</td>\n",
       "      <td>3333.000000</td>\n",
       "      <td>3333.000000</td>\n",
       "      <td>3333.000000</td>\n",
       "      <td>3333.000000</td>\n",
       "      <td>3333.000000</td>\n",
       "      <td>3333.000000</td>\n",
       "      <td>3333.000000</td>\n",
       "      <td>3333.000000</td>\n",
       "      <td>3333.000000</td>\n",
       "      <td>3333.000000</td>\n",
       "      <td>3333.000000</td>\n",
       "      <td>3333.000000</td>\n",
       "      <td>3333.000000</td>\n",
       "    </tr>\n",
       "    <tr>\n",
       "      <th>mean</th>\n",
       "      <td>101.064806</td>\n",
       "      <td>8.099010</td>\n",
       "      <td>179.775098</td>\n",
       "      <td>100.435644</td>\n",
       "      <td>30.562307</td>\n",
       "      <td>200.980348</td>\n",
       "      <td>100.114311</td>\n",
       "      <td>17.083540</td>\n",
       "      <td>200.872037</td>\n",
       "      <td>100.107711</td>\n",
       "      <td>9.039325</td>\n",
       "      <td>10.237294</td>\n",
       "      <td>4.479448</td>\n",
       "      <td>2.764581</td>\n",
       "      <td>1.562856</td>\n",
       "    </tr>\n",
       "    <tr>\n",
       "      <th>std</th>\n",
       "      <td>39.822106</td>\n",
       "      <td>13.688365</td>\n",
       "      <td>54.467389</td>\n",
       "      <td>20.069084</td>\n",
       "      <td>9.259435</td>\n",
       "      <td>50.713844</td>\n",
       "      <td>19.922625</td>\n",
       "      <td>4.310668</td>\n",
       "      <td>50.573847</td>\n",
       "      <td>19.568609</td>\n",
       "      <td>2.275873</td>\n",
       "      <td>2.791840</td>\n",
       "      <td>2.461214</td>\n",
       "      <td>0.753773</td>\n",
       "      <td>1.315491</td>\n",
       "    </tr>\n",
       "    <tr>\n",
       "      <th>min</th>\n",
       "      <td>1.000000</td>\n",
       "      <td>0.000000</td>\n",
       "      <td>0.000000</td>\n",
       "      <td>0.000000</td>\n",
       "      <td>0.000000</td>\n",
       "      <td>0.000000</td>\n",
       "      <td>0.000000</td>\n",
       "      <td>0.000000</td>\n",
       "      <td>23.200000</td>\n",
       "      <td>33.000000</td>\n",
       "      <td>1.040000</td>\n",
       "      <td>0.000000</td>\n",
       "      <td>0.000000</td>\n",
       "      <td>0.000000</td>\n",
       "      <td>0.000000</td>\n",
       "    </tr>\n",
       "    <tr>\n",
       "      <th>25%</th>\n",
       "      <td>74.000000</td>\n",
       "      <td>0.000000</td>\n",
       "      <td>143.700000</td>\n",
       "      <td>87.000000</td>\n",
       "      <td>24.430000</td>\n",
       "      <td>166.600000</td>\n",
       "      <td>87.000000</td>\n",
       "      <td>14.160000</td>\n",
       "      <td>167.000000</td>\n",
       "      <td>87.000000</td>\n",
       "      <td>7.520000</td>\n",
       "      <td>8.500000</td>\n",
       "      <td>3.000000</td>\n",
       "      <td>2.300000</td>\n",
       "      <td>1.000000</td>\n",
       "    </tr>\n",
       "    <tr>\n",
       "      <th>50%</th>\n",
       "      <td>101.000000</td>\n",
       "      <td>0.000000</td>\n",
       "      <td>179.400000</td>\n",
       "      <td>101.000000</td>\n",
       "      <td>30.500000</td>\n",
       "      <td>201.400000</td>\n",
       "      <td>100.000000</td>\n",
       "      <td>17.120000</td>\n",
       "      <td>201.200000</td>\n",
       "      <td>100.000000</td>\n",
       "      <td>9.050000</td>\n",
       "      <td>10.300000</td>\n",
       "      <td>4.000000</td>\n",
       "      <td>2.780000</td>\n",
       "      <td>1.000000</td>\n",
       "    </tr>\n",
       "    <tr>\n",
       "      <th>75%</th>\n",
       "      <td>127.000000</td>\n",
       "      <td>20.000000</td>\n",
       "      <td>216.400000</td>\n",
       "      <td>114.000000</td>\n",
       "      <td>36.790000</td>\n",
       "      <td>235.300000</td>\n",
       "      <td>114.000000</td>\n",
       "      <td>20.000000</td>\n",
       "      <td>235.300000</td>\n",
       "      <td>113.000000</td>\n",
       "      <td>10.590000</td>\n",
       "      <td>12.100000</td>\n",
       "      <td>6.000000</td>\n",
       "      <td>3.270000</td>\n",
       "      <td>2.000000</td>\n",
       "    </tr>\n",
       "    <tr>\n",
       "      <th>max</th>\n",
       "      <td>243.000000</td>\n",
       "      <td>51.000000</td>\n",
       "      <td>350.800000</td>\n",
       "      <td>165.000000</td>\n",
       "      <td>59.640000</td>\n",
       "      <td>363.700000</td>\n",
       "      <td>170.000000</td>\n",
       "      <td>30.910000</td>\n",
       "      <td>395.000000</td>\n",
       "      <td>175.000000</td>\n",
       "      <td>17.770000</td>\n",
       "      <td>20.000000</td>\n",
       "      <td>20.000000</td>\n",
       "      <td>5.400000</td>\n",
       "      <td>9.000000</td>\n",
       "    </tr>\n",
       "  </tbody>\n",
       "</table>\n",
       "</div>"
      ],
      "text/plain": [
       "       Account Length  VMail Message     Day Mins    Day Calls   Day Charge  \\\n",
       "count     3333.000000    3333.000000  3333.000000  3333.000000  3333.000000   \n",
       "mean       101.064806       8.099010   179.775098   100.435644    30.562307   \n",
       "std         39.822106      13.688365    54.467389    20.069084     9.259435   \n",
       "min          1.000000       0.000000     0.000000     0.000000     0.000000   \n",
       "25%         74.000000       0.000000   143.700000    87.000000    24.430000   \n",
       "50%        101.000000       0.000000   179.400000   101.000000    30.500000   \n",
       "75%        127.000000      20.000000   216.400000   114.000000    36.790000   \n",
       "max        243.000000      51.000000   350.800000   165.000000    59.640000   \n",
       "\n",
       "          Eve Mins    Eve Calls   Eve Charge   Night Mins  Night Calls  \\\n",
       "count  3333.000000  3333.000000  3333.000000  3333.000000  3333.000000   \n",
       "mean    200.980348   100.114311    17.083540   200.872037   100.107711   \n",
       "std      50.713844    19.922625     4.310668    50.573847    19.568609   \n",
       "min       0.000000     0.000000     0.000000    23.200000    33.000000   \n",
       "25%     166.600000    87.000000    14.160000   167.000000    87.000000   \n",
       "50%     201.400000   100.000000    17.120000   201.200000   100.000000   \n",
       "75%     235.300000   114.000000    20.000000   235.300000   113.000000   \n",
       "max     363.700000   170.000000    30.910000   395.000000   175.000000   \n",
       "\n",
       "       Night Charge    Intl Mins   Intl Calls  Intl Charge  CustServ Calls  \n",
       "count   3333.000000  3333.000000  3333.000000  3333.000000     3333.000000  \n",
       "mean       9.039325    10.237294     4.479448     2.764581        1.562856  \n",
       "std        2.275873     2.791840     2.461214     0.753773        1.315491  \n",
       "min        1.040000     0.000000     0.000000     0.000000        0.000000  \n",
       "25%        7.520000     8.500000     3.000000     2.300000        1.000000  \n",
       "50%        9.050000    10.300000     4.000000     2.780000        1.000000  \n",
       "75%       10.590000    12.100000     6.000000     3.270000        2.000000  \n",
       "max       17.770000    20.000000    20.000000     5.400000        9.000000  "
      ]
     },
     "execution_count": 5,
     "metadata": {},
     "output_type": "execute_result"
    }
   ],
   "source": [
    "df.describe()"
   ]
  },
  {
   "cell_type": "markdown",
   "metadata": {},
   "source": [
    " As was shown phone is all unique values and can be removed from the data frame. Also decided to create dummy variables for the binary attributes."
   ]
  },
  {
   "cell_type": "code",
   "execution_count": 6,
   "metadata": {},
   "outputs": [],
   "source": [
    "df.drop('Phone', axis=1, inplace=True)\n",
    "#df.drop('VMail Message', axis=1, inplace=True)"
   ]
  },
  {
   "cell_type": "code",
   "execution_count": 7,
   "metadata": {},
   "outputs": [
    {
     "data": {
      "text/html": [
       "<div>\n",
       "<style scoped>\n",
       "    .dataframe tbody tr th:only-of-type {\n",
       "        vertical-align: middle;\n",
       "    }\n",
       "\n",
       "    .dataframe tbody tr th {\n",
       "        vertical-align: top;\n",
       "    }\n",
       "\n",
       "    .dataframe thead th {\n",
       "        text-align: right;\n",
       "    }\n",
       "</style>\n",
       "<table border=\"1\" class=\"dataframe\">\n",
       "  <thead>\n",
       "    <tr style=\"text-align: right;\">\n",
       "      <th></th>\n",
       "      <th>State</th>\n",
       "      <th>Account Length</th>\n",
       "      <th>Area Code</th>\n",
       "      <th>Int'l Plan</th>\n",
       "      <th>VMail Plan</th>\n",
       "      <th>VMail Message</th>\n",
       "      <th>Day Mins</th>\n",
       "      <th>Day Calls</th>\n",
       "      <th>Day Charge</th>\n",
       "      <th>Eve Mins</th>\n",
       "      <th>Eve Calls</th>\n",
       "      <th>Eve Charge</th>\n",
       "      <th>Night Mins</th>\n",
       "      <th>Night Calls</th>\n",
       "      <th>Night Charge</th>\n",
       "      <th>Intl Mins</th>\n",
       "      <th>Intl Calls</th>\n",
       "      <th>Intl Charge</th>\n",
       "      <th>CustServ Calls</th>\n",
       "      <th>Churn?</th>\n",
       "    </tr>\n",
       "  </thead>\n",
       "  <tbody>\n",
       "    <tr>\n",
       "      <th>0</th>\n",
       "      <td>KS</td>\n",
       "      <td>128</td>\n",
       "      <td>415</td>\n",
       "      <td>0</td>\n",
       "      <td>1</td>\n",
       "      <td>25</td>\n",
       "      <td>265.1</td>\n",
       "      <td>110</td>\n",
       "      <td>45.07</td>\n",
       "      <td>197.4</td>\n",
       "      <td>99</td>\n",
       "      <td>16.78</td>\n",
       "      <td>244.7</td>\n",
       "      <td>91</td>\n",
       "      <td>11.01</td>\n",
       "      <td>10.0</td>\n",
       "      <td>3</td>\n",
       "      <td>2.70</td>\n",
       "      <td>1</td>\n",
       "      <td>0</td>\n",
       "    </tr>\n",
       "    <tr>\n",
       "      <th>1</th>\n",
       "      <td>OH</td>\n",
       "      <td>107</td>\n",
       "      <td>415</td>\n",
       "      <td>0</td>\n",
       "      <td>1</td>\n",
       "      <td>26</td>\n",
       "      <td>161.6</td>\n",
       "      <td>123</td>\n",
       "      <td>27.47</td>\n",
       "      <td>195.5</td>\n",
       "      <td>103</td>\n",
       "      <td>16.62</td>\n",
       "      <td>254.4</td>\n",
       "      <td>103</td>\n",
       "      <td>11.45</td>\n",
       "      <td>13.7</td>\n",
       "      <td>3</td>\n",
       "      <td>3.70</td>\n",
       "      <td>1</td>\n",
       "      <td>0</td>\n",
       "    </tr>\n",
       "    <tr>\n",
       "      <th>2</th>\n",
       "      <td>NJ</td>\n",
       "      <td>137</td>\n",
       "      <td>415</td>\n",
       "      <td>0</td>\n",
       "      <td>0</td>\n",
       "      <td>0</td>\n",
       "      <td>243.4</td>\n",
       "      <td>114</td>\n",
       "      <td>41.38</td>\n",
       "      <td>121.2</td>\n",
       "      <td>110</td>\n",
       "      <td>10.30</td>\n",
       "      <td>162.6</td>\n",
       "      <td>104</td>\n",
       "      <td>7.32</td>\n",
       "      <td>12.2</td>\n",
       "      <td>5</td>\n",
       "      <td>3.29</td>\n",
       "      <td>0</td>\n",
       "      <td>0</td>\n",
       "    </tr>\n",
       "    <tr>\n",
       "      <th>3</th>\n",
       "      <td>OH</td>\n",
       "      <td>84</td>\n",
       "      <td>408</td>\n",
       "      <td>1</td>\n",
       "      <td>0</td>\n",
       "      <td>0</td>\n",
       "      <td>299.4</td>\n",
       "      <td>71</td>\n",
       "      <td>50.90</td>\n",
       "      <td>61.9</td>\n",
       "      <td>88</td>\n",
       "      <td>5.26</td>\n",
       "      <td>196.9</td>\n",
       "      <td>89</td>\n",
       "      <td>8.86</td>\n",
       "      <td>6.6</td>\n",
       "      <td>7</td>\n",
       "      <td>1.78</td>\n",
       "      <td>2</td>\n",
       "      <td>0</td>\n",
       "    </tr>\n",
       "    <tr>\n",
       "      <th>4</th>\n",
       "      <td>OK</td>\n",
       "      <td>75</td>\n",
       "      <td>415</td>\n",
       "      <td>1</td>\n",
       "      <td>0</td>\n",
       "      <td>0</td>\n",
       "      <td>166.7</td>\n",
       "      <td>113</td>\n",
       "      <td>28.34</td>\n",
       "      <td>148.3</td>\n",
       "      <td>122</td>\n",
       "      <td>12.61</td>\n",
       "      <td>186.9</td>\n",
       "      <td>121</td>\n",
       "      <td>8.41</td>\n",
       "      <td>10.1</td>\n",
       "      <td>3</td>\n",
       "      <td>2.73</td>\n",
       "      <td>3</td>\n",
       "      <td>0</td>\n",
       "    </tr>\n",
       "  </tbody>\n",
       "</table>\n",
       "</div>"
      ],
      "text/plain": [
       "  State  Account Length Area Code  Int'l Plan  VMail Plan  VMail Message  \\\n",
       "0    KS             128       415           0           1             25   \n",
       "1    OH             107       415           0           1             26   \n",
       "2    NJ             137       415           0           0              0   \n",
       "3    OH              84       408           1           0              0   \n",
       "4    OK              75       415           1           0              0   \n",
       "\n",
       "   Day Mins  Day Calls  Day Charge  Eve Mins  Eve Calls  Eve Charge  \\\n",
       "0     265.1        110       45.07     197.4         99       16.78   \n",
       "1     161.6        123       27.47     195.5        103       16.62   \n",
       "2     243.4        114       41.38     121.2        110       10.30   \n",
       "3     299.4         71       50.90      61.9         88        5.26   \n",
       "4     166.7        113       28.34     148.3        122       12.61   \n",
       "\n",
       "   Night Mins  Night Calls  Night Charge  Intl Mins  Intl Calls  Intl Charge  \\\n",
       "0       244.7           91         11.01       10.0           3         2.70   \n",
       "1       254.4          103         11.45       13.7           3         3.70   \n",
       "2       162.6          104          7.32       12.2           5         3.29   \n",
       "3       196.9           89          8.86        6.6           7         1.78   \n",
       "4       186.9          121          8.41       10.1           3         2.73   \n",
       "\n",
       "   CustServ Calls  Churn?  \n",
       "0               1       0  \n",
       "1               1       0  \n",
       "2               0       0  \n",
       "3               2       0  \n",
       "4               3       0  "
      ]
     },
     "execution_count": 7,
     "metadata": {},
     "output_type": "execute_result"
    }
   ],
   "source": [
    "df['Int\\'l Plan'] = df['Int\\'l Plan'].map( {'yes': 1, 'no': 0} ).astype(int)\n",
    "df['VMail Plan'] = df['VMail Plan'].map( {'yes': 1, 'no': 0} ).astype(int)\n",
    "df['Churn?'] = df['Churn?'].map( {'True.': 1, 'False.': 0} ).astype(int)\n",
    "df.head()"
   ]
  },
  {
   "cell_type": "markdown",
   "metadata": {},
   "source": [
    "# D) Are there any outlier values (records) for each of the attributes ?"
   ]
  },
  {
   "cell_type": "markdown",
   "metadata": {},
   "source": [
    "The box plot shows that some attributes (acc len, calls, mins, charges) have a quite a few outliers. This is most likely due to this data not being a full dataset and the nature of this data is most likely influenced by the pareto principle. \n",
    "\n",
    "In this case it makes sense to consolidate the fields calls, mins, charges. Also makes sense to bin the data and then see if there is any relation to the class variable. "
   ]
  },
  {
   "cell_type": "code",
   "execution_count": 8,
   "metadata": {},
   "outputs": [
    {
     "data": {
      "text/plain": [
       "<matplotlib.axes._subplots.AxesSubplot at 0x24a57f338d0>"
      ]
     },
     "execution_count": 8,
     "metadata": {},
     "output_type": "execute_result"
    },
    {
     "data": {
      "image/png": "[encoded data removed]",
      "text/plain": [
       "<Figure size 1440x720 with 1 Axes>"
      ]
     },
     "metadata": {
      "needs_background": "light"
     },
     "output_type": "display_data"
    }
   ],
   "source": [
    "#Use boxplot to see if there are any outlier values\n",
    "df.boxplot(figsize=(20,10))"
   ]
  },
  {
   "cell_type": "markdown",
   "metadata": {},
   "source": []
  },
  {
   "cell_type": "markdown",
   "metadata": {},
   "source": [
    "## E) Analyze the distribution of numeric attributes (normal or other) "
   ]
  },
  {
   "cell_type": "markdown",
   "metadata": {},
   "source": [
    "As noted above it made sense to consolidate min, calls, and charges. This was done before plotting the distributions"
   ]
  },
  {
   "cell_type": "code",
   "execution_count": 9,
   "metadata": {},
   "outputs": [],
   "source": [
    "#Group the day, eve, night data into total calls, total charges and total mins to simplify distribution plots\n",
    "df['Total Mins Non-Intl'] = df['Day Mins'] + df['Eve Mins'] + df['Night Mins']\n",
    "df['Total Calls Non-Intl'] = df['Day Calls'] + df['Eve Calls'] + df['Night Calls']\n",
    "df['Total Charge Non-Intl'] = df['Day Charge'] + df['Eve Charge'] + df['Night Charge']\n",
    "\n",
    "#Create a new columns for combined totals  (non-intl and intl)\n",
    "df['Total Mins'] = df['Total Mins Non-Intl'] + df['Intl Mins']\n",
    "df['Total Calls'] = df['Total Calls Non-Intl'] + df['Intl Calls']\n",
    "df['Total Charge'] = df['Total Charge Non-Intl'] + df['Intl Charge']\n",
    "#df.head()"
   ]
  },
  {
   "cell_type": "markdown",
   "metadata": {},
   "source": [
    "__Account Length__ - Normally distributed"
   ]
  },
  {
   "cell_type": "code",
   "execution_count": 10,
   "metadata": {},
   "outputs": [
    {
     "name": "stderr",
     "output_type": "stream",
     "text": [
      "C:\\Users\\benpo\\Anaconda3\\lib\\site-packages\\scipy\\stats\\stats.py:1713: FutureWarning: Using a non-tuple sequence for multidimensional indexing is deprecated; use `arr[tuple(seq)]` instead of `arr[seq]`. In the future this will be interpreted as an array index, `arr[np.array(seq)]`, which will result either in an error or a different result.\n",
      "  return np.add.reduce(sorted[indexer] * weights, axis=axis) / sumval\n"
     ]
    },
    {
     "data": {
      "text/plain": [
       "<matplotlib.axes._subplots.AxesSubplot at 0x24a5deacda0>"
      ]
     },
     "execution_count": 10,
     "metadata": {},
     "output_type": "execute_result"
    },
    {
     "data": {
      "image/png": "[encoded data removed]",
      "text/plain": [
       "<Figure size 432x288 with 1 Axes>"
      ]
     },
     "metadata": {
      "needs_background": "light"
     },
     "output_type": "display_data"
    }
   ],
   "source": [
    "#Account Length, Day Mins, Day Charge, Eve Mins, Eve Charge, Night Mins, Night Charge, Intl Mins, Intl Charge Discrete: VMail Message, Day Calls, Eve Calls, Night Calls, Intl Calls, CustServ Calls\n",
    "sns.distplot(df[\"Account Length\"])\n"
   ]
  },
  {
   "cell_type": "markdown",
   "metadata": {},
   "source": [
    "__CustServ Calls__ - Not normally dist and should be converted to a binary value"
   ]
  },
  {
   "cell_type": "code",
   "execution_count": 11,
   "metadata": {},
   "outputs": [
    {
     "name": "stderr",
     "output_type": "stream",
     "text": [
      "C:\\Users\\benpo\\Anaconda3\\lib\\site-packages\\scipy\\stats\\stats.py:1713: FutureWarning: Using a non-tuple sequence for multidimensional indexing is deprecated; use `arr[tuple(seq)]` instead of `arr[seq]`. In the future this will be interpreted as an array index, `arr[np.array(seq)]`, which will result either in an error or a different result.\n",
      "  return np.add.reduce(sorted[indexer] * weights, axis=axis) / sumval\n"
     ]
    },
    {
     "data": {
      "text/plain": [
       "<matplotlib.axes._subplots.AxesSubplot at 0x24a5db27748>"
      ]
     },
     "execution_count": 11,
     "metadata": {},
     "output_type": "execute_result"
    },
    {
     "data": {
      "image/png": "[encoded data removed]",
      "text/plain": [
       "<Figure size 432x288 with 1 Axes>"
      ]
     },
     "metadata": {
      "needs_background": "light"
     },
     "output_type": "display_data"
    }
   ],
   "source": [
    "sns.distplot(df[\"CustServ Calls\"])"
   ]
  },
  {
   "cell_type": "markdown",
   "metadata": {},
   "source": [
    "__VMail Message__ - Was not normally dist and should be converted to a binary value. Basically the same as VMail Plan so it was dropped."
   ]
  },
  {
   "cell_type": "code",
   "execution_count": 12,
   "metadata": {},
   "outputs": [],
   "source": [
    "#sns.distplot(df[\"VMail Message\"])"
   ]
  },
  {
   "cell_type": "markdown",
   "metadata": {},
   "source": [
    "__Mins__ - Normally distributed"
   ]
  },
  {
   "cell_type": "code",
   "execution_count": 13,
   "metadata": {},
   "outputs": [
    {
     "name": "stderr",
     "output_type": "stream",
     "text": [
      "C:\\Users\\benpo\\Anaconda3\\lib\\site-packages\\scipy\\stats\\stats.py:1713: FutureWarning: Using a non-tuple sequence for multidimensional indexing is deprecated; use `arr[tuple(seq)]` instead of `arr[seq]`. In the future this will be interpreted as an array index, `arr[np.array(seq)]`, which will result either in an error or a different result.\n",
      "  return np.add.reduce(sorted[indexer] * weights, axis=axis) / sumval\n"
     ]
    },
    {
     "data": {
      "text/plain": [
       "<matplotlib.axes._subplots.AxesSubplot at 0x24a5dc16b38>"
      ]
     },
     "execution_count": 13,
     "metadata": {},
     "output_type": "execute_result"
    },
    {
     "data": {
      "image/png": "[encoded data removed]",
      "text/plain": [
       "<Figure size 432x288 with 1 Axes>"
      ]
     },
     "metadata": {
      "needs_background": "light"
     },
     "output_type": "display_data"
    }
   ],
   "source": [
    "sns.distplot(df[\"Total Mins\"])"
   ]
  },
  {
   "cell_type": "markdown",
   "metadata": {},
   "source": [
    "__Calls__ - Normally distributed"
   ]
  },
  {
   "cell_type": "code",
   "execution_count": 14,
   "metadata": {},
   "outputs": [
    {
     "name": "stderr",
     "output_type": "stream",
     "text": [
      "C:\\Users\\benpo\\Anaconda3\\lib\\site-packages\\scipy\\stats\\stats.py:1713: FutureWarning: Using a non-tuple sequence for multidimensional indexing is deprecated; use `arr[tuple(seq)]` instead of `arr[seq]`. In the future this will be interpreted as an array index, `arr[np.array(seq)]`, which will result either in an error or a different result.\n",
      "  return np.add.reduce(sorted[indexer] * weights, axis=axis) / sumval\n"
     ]
    },
    {
     "data": {
      "text/plain": [
       "<matplotlib.axes._subplots.AxesSubplot at 0x24a5dcd3828>"
      ]
     },
     "execution_count": 14,
     "metadata": {},
     "output_type": "execute_result"
    },
    {
     "data": {
      "image/png": "[encoded data removed]",
      "text/plain": [
       "<Figure size 432x288 with 1 Axes>"
      ]
     },
     "metadata": {
      "needs_background": "light"
     },
     "output_type": "display_data"
    }
   ],
   "source": [
    "sns.distplot(df[\"Total Calls\"])"
   ]
  },
  {
   "cell_type": "markdown",
   "metadata": {},
   "source": [
    "__Charge__ - Normally distributed"
   ]
  },
  {
   "cell_type": "code",
   "execution_count": 15,
   "metadata": {},
   "outputs": [
    {
     "name": "stderr",
     "output_type": "stream",
     "text": [
      "C:\\Users\\benpo\\Anaconda3\\lib\\site-packages\\scipy\\stats\\stats.py:1713: FutureWarning: Using a non-tuple sequence for multidimensional indexing is deprecated; use `arr[tuple(seq)]` instead of `arr[seq]`. In the future this will be interpreted as an array index, `arr[np.array(seq)]`, which will result either in an error or a different result.\n",
      "  return np.add.reduce(sorted[indexer] * weights, axis=axis) / sumval\n"
     ]
    },
    {
     "data": {
      "text/plain": [
       "<matplotlib.axes._subplots.AxesSubplot at 0x24a5dd7f978>"
      ]
     },
     "execution_count": 15,
     "metadata": {},
     "output_type": "execute_result"
    },
    {
     "data": {
      "image/png": "[encoded data removed]",
      "text/plain": [
       "<Figure size 432x288 with 1 Axes>"
      ]
     },
     "metadata": {
      "needs_background": "light"
     },
     "output_type": "display_data"
    }
   ],
   "source": [
    "sns.distplot(df[\"Total Charge\"])"
   ]
  },
  {
   "cell_type": "markdown",
   "metadata": {},
   "source": [
    "## F) Analyze  attributes and determine if they have any influence on the class"
   ]
  },
  {
   "cell_type": "markdown",
   "metadata": {},
   "source": [
    "Before starting this analysis the account length was binned. Skipped binning each individual min, call, charge coloumn and focused on the the overall totals. "
   ]
  },
  {
   "cell_type": "code",
   "execution_count": 16,
   "metadata": {},
   "outputs": [
    {
     "data": {
      "text/html": [
       "<div>\n",
       "<style scoped>\n",
       "    .dataframe tbody tr th:only-of-type {\n",
       "        vertical-align: middle;\n",
       "    }\n",
       "\n",
       "    .dataframe tbody tr th {\n",
       "        vertical-align: top;\n",
       "    }\n",
       "\n",
       "    .dataframe thead th {\n",
       "        text-align: right;\n",
       "    }\n",
       "</style>\n",
       "<table border=\"1\" class=\"dataframe\">\n",
       "  <thead>\n",
       "    <tr style=\"text-align: right;\">\n",
       "      <th></th>\n",
       "      <th>State</th>\n",
       "      <th>Account Length</th>\n",
       "      <th>Area Code</th>\n",
       "      <th>Int'l Plan</th>\n",
       "      <th>VMail Plan</th>\n",
       "      <th>VMail Message</th>\n",
       "      <th>Day Mins</th>\n",
       "      <th>Day Calls</th>\n",
       "      <th>Day Charge</th>\n",
       "      <th>Eve Mins</th>\n",
       "      <th>...</th>\n",
       "      <th>Total Mins Non-Intl</th>\n",
       "      <th>Total Calls Non-Intl</th>\n",
       "      <th>Total Charge Non-Intl</th>\n",
       "      <th>Total Mins</th>\n",
       "      <th>Total Calls</th>\n",
       "      <th>Total Charge</th>\n",
       "      <th>Acc Length Binned</th>\n",
       "      <th>Total Mins Binned</th>\n",
       "      <th>Total Calls Binned</th>\n",
       "      <th>Total Charge Binned</th>\n",
       "    </tr>\n",
       "  </thead>\n",
       "  <tbody>\n",
       "    <tr>\n",
       "      <th>0</th>\n",
       "      <td>KS</td>\n",
       "      <td>128</td>\n",
       "      <td>415</td>\n",
       "      <td>0</td>\n",
       "      <td>1</td>\n",
       "      <td>25</td>\n",
       "      <td>265.1</td>\n",
       "      <td>110</td>\n",
       "      <td>45.07</td>\n",
       "      <td>197.4</td>\n",
       "      <td>...</td>\n",
       "      <td>707.2</td>\n",
       "      <td>300</td>\n",
       "      <td>72.86</td>\n",
       "      <td>717</td>\n",
       "      <td>303</td>\n",
       "      <td>75</td>\n",
       "      <td>(97, 145]</td>\n",
       "      <td>(684, 784]</td>\n",
       "      <td>(302, 339]</td>\n",
       "      <td>(70, 82]</td>\n",
       "    </tr>\n",
       "    <tr>\n",
       "      <th>1</th>\n",
       "      <td>OH</td>\n",
       "      <td>107</td>\n",
       "      <td>415</td>\n",
       "      <td>0</td>\n",
       "      <td>1</td>\n",
       "      <td>26</td>\n",
       "      <td>161.6</td>\n",
       "      <td>123</td>\n",
       "      <td>27.47</td>\n",
       "      <td>195.5</td>\n",
       "      <td>...</td>\n",
       "      <td>611.5</td>\n",
       "      <td>329</td>\n",
       "      <td>55.54</td>\n",
       "      <td>625</td>\n",
       "      <td>332</td>\n",
       "      <td>59</td>\n",
       "      <td>(97, 145]</td>\n",
       "      <td>(584, 684]</td>\n",
       "      <td>(302, 339]</td>\n",
       "      <td>(58, 70]</td>\n",
       "    </tr>\n",
       "    <tr>\n",
       "      <th>2</th>\n",
       "      <td>NJ</td>\n",
       "      <td>137</td>\n",
       "      <td>415</td>\n",
       "      <td>0</td>\n",
       "      <td>0</td>\n",
       "      <td>0</td>\n",
       "      <td>243.4</td>\n",
       "      <td>114</td>\n",
       "      <td>41.38</td>\n",
       "      <td>121.2</td>\n",
       "      <td>...</td>\n",
       "      <td>527.2</td>\n",
       "      <td>328</td>\n",
       "      <td>59.00</td>\n",
       "      <td>539</td>\n",
       "      <td>333</td>\n",
       "      <td>62</td>\n",
       "      <td>(97, 145]</td>\n",
       "      <td>(484, 584]</td>\n",
       "      <td>(302, 339]</td>\n",
       "      <td>(58, 70]</td>\n",
       "    </tr>\n",
       "    <tr>\n",
       "      <th>3</th>\n",
       "      <td>OH</td>\n",
       "      <td>84</td>\n",
       "      <td>408</td>\n",
       "      <td>1</td>\n",
       "      <td>0</td>\n",
       "      <td>0</td>\n",
       "      <td>299.4</td>\n",
       "      <td>71</td>\n",
       "      <td>50.90</td>\n",
       "      <td>61.9</td>\n",
       "      <td>...</td>\n",
       "      <td>558.2</td>\n",
       "      <td>248</td>\n",
       "      <td>65.02</td>\n",
       "      <td>564</td>\n",
       "      <td>255</td>\n",
       "      <td>66</td>\n",
       "      <td>(49, 97]</td>\n",
       "      <td>(484, 584]</td>\n",
       "      <td>(228, 265]</td>\n",
       "      <td>(58, 70]</td>\n",
       "    </tr>\n",
       "    <tr>\n",
       "      <th>4</th>\n",
       "      <td>OK</td>\n",
       "      <td>75</td>\n",
       "      <td>415</td>\n",
       "      <td>1</td>\n",
       "      <td>0</td>\n",
       "      <td>0</td>\n",
       "      <td>166.7</td>\n",
       "      <td>113</td>\n",
       "      <td>28.34</td>\n",
       "      <td>148.3</td>\n",
       "      <td>...</td>\n",
       "      <td>501.9</td>\n",
       "      <td>356</td>\n",
       "      <td>49.36</td>\n",
       "      <td>512</td>\n",
       "      <td>359</td>\n",
       "      <td>52</td>\n",
       "      <td>(49, 97]</td>\n",
       "      <td>(484, 584]</td>\n",
       "      <td>(339, 376]</td>\n",
       "      <td>(46, 58]</td>\n",
       "    </tr>\n",
       "  </tbody>\n",
       "</table>\n",
       "<p>5 rows × 30 columns</p>\n",
       "</div>"
      ],
      "text/plain": [
       "  State  Account Length Area Code  Int'l Plan  VMail Plan  VMail Message  \\\n",
       "0    KS             128       415           0           1             25   \n",
       "1    OH             107       415           0           1             26   \n",
       "2    NJ             137       415           0           0              0   \n",
       "3    OH              84       408           1           0              0   \n",
       "4    OK              75       415           1           0              0   \n",
       "\n",
       "   Day Mins  Day Calls  Day Charge  Eve Mins         ...           \\\n",
       "0     265.1        110       45.07     197.4         ...            \n",
       "1     161.6        123       27.47     195.5         ...            \n",
       "2     243.4        114       41.38     121.2         ...            \n",
       "3     299.4         71       50.90      61.9         ...            \n",
       "4     166.7        113       28.34     148.3         ...            \n",
       "\n",
       "   Total Mins Non-Intl  Total Calls Non-Intl  Total Charge Non-Intl  \\\n",
       "0                707.2                   300                  72.86   \n",
       "1                611.5                   329                  55.54   \n",
       "2                527.2                   328                  59.00   \n",
       "3                558.2                   248                  65.02   \n",
       "4                501.9                   356                  49.36   \n",
       "\n",
       "   Total Mins  Total Calls  Total Charge  Acc Length Binned  \\\n",
       "0         717          303            75          (97, 145]   \n",
       "1         625          332            59          (97, 145]   \n",
       "2         539          333            62          (97, 145]   \n",
       "3         564          255            66           (49, 97]   \n",
       "4         512          359            52           (49, 97]   \n",
       "\n",
       "   Total Mins Binned  Total Calls Binned  Total Charge Binned  \n",
       "0         (684, 784]          (302, 339]             (70, 82]  \n",
       "1         (584, 684]          (302, 339]             (58, 70]  \n",
       "2         (484, 584]          (302, 339]             (58, 70]  \n",
       "3         (484, 584]          (228, 265]             (58, 70]  \n",
       "4         (484, 584]          (339, 376]             (46, 58]  \n",
       "\n",
       "[5 rows x 30 columns]"
      ]
     },
     "execution_count": 16,
     "metadata": {},
     "output_type": "execute_result"
    }
   ],
   "source": [
    "#Bin account length \n",
    "binwidth_al = int((max(df['Account Length'])-min(df['Account Length']))/5)\n",
    "bins_al = range(min(df['Account Length']), max(df['Account Length']), binwidth_al)\n",
    "al_names = ['Newest', 'Avg', \"Oldest\"]\n",
    "df['Acc Length Binned'] = pd.cut(df['Account Length'], bins_al)\n",
    "\n",
    "#Convert total mins to int so it can be binned\n",
    "df['Total Mins'] = df['Total Mins'].astype(np.int64)\n",
    "#Bin Total Mins \n",
    "binwidth_tm = int((max(df['Total Mins'])-min(df['Total Mins']))/6)\n",
    "bins_tm = range(min(df['Total Mins']), max(df['Total Mins']), binwidth_tm)\n",
    "\n",
    "df['Total Mins Binned'] = pd.cut(df['Total Mins'], bins_tm)\n",
    "\n",
    "#Convert total Calls to int so it can be binned\n",
    "df['Total Calls'] = df['Total Calls'].astype(np.int64)\n",
    "#Bin Total Calls \n",
    "binwidth_tc = int((max(df['Total Calls'])-min(df['Total Calls']))/6)\n",
    "bins_tc = range(min(df['Total Calls']), max(df['Total Calls']), binwidth_tc)\n",
    "df['Total Calls Binned'] = pd.cut(df['Total Calls'], bins_tc)\n",
    "\n",
    "#Convert total Calls to int so it can be binned\n",
    "df['Total Charge'] = df['Total Charge'].astype(np.int64)\n",
    "#Bin Total Calls \n",
    "binwidth_tch = int((max(df['Total Charge'])-min(df['Total Charge']))/6)\n",
    "bins_tch = range(min(df['Total Charge']), max(df['Total Charge']), binwidth_tch)\n",
    "df['Total Charge Binned'] = pd.cut(df['Total Charge'], bins_tch)\n",
    "\n",
    "df.head()"
   ]
  },
  {
   "cell_type": "markdown",
   "metadata": {},
   "source": [
    "__State__ - Some states are more likely to result in churn but there is no strong correlation visible . It can be dropped."
   ]
  },
  {
   "cell_type": "code",
   "execution_count": 17,
   "metadata": {},
   "outputs": [
    {
     "data": {
      "text/html": [
       "<div>\n",
       "<style scoped>\n",
       "    .dataframe tbody tr th:only-of-type {\n",
       "        vertical-align: middle;\n",
       "    }\n",
       "\n",
       "    .dataframe tbody tr th {\n",
       "        vertical-align: top;\n",
       "    }\n",
       "\n",
       "    .dataframe thead th {\n",
       "        text-align: right;\n",
       "    }\n",
       "</style>\n",
       "<table border=\"1\" class=\"dataframe\">\n",
       "  <thead>\n",
       "    <tr style=\"text-align: right;\">\n",
       "      <th></th>\n",
       "      <th>State</th>\n",
       "      <th>Churn?</th>\n",
       "    </tr>\n",
       "  </thead>\n",
       "  <tbody>\n",
       "    <tr>\n",
       "      <th>31</th>\n",
       "      <td>NJ</td>\n",
       "      <td>0.264706</td>\n",
       "    </tr>\n",
       "    <tr>\n",
       "      <th>4</th>\n",
       "      <td>CA</td>\n",
       "      <td>0.264706</td>\n",
       "    </tr>\n",
       "    <tr>\n",
       "      <th>43</th>\n",
       "      <td>TX</td>\n",
       "      <td>0.250000</td>\n",
       "    </tr>\n",
       "    <tr>\n",
       "      <th>20</th>\n",
       "      <td>MD</td>\n",
       "      <td>0.242857</td>\n",
       "    </tr>\n",
       "    <tr>\n",
       "      <th>40</th>\n",
       "      <td>SC</td>\n",
       "      <td>0.233333</td>\n",
       "    </tr>\n",
       "    <tr>\n",
       "      <th>22</th>\n",
       "      <td>MI</td>\n",
       "      <td>0.219178</td>\n",
       "    </tr>\n",
       "    <tr>\n",
       "      <th>25</th>\n",
       "      <td>MS</td>\n",
       "      <td>0.215385</td>\n",
       "    </tr>\n",
       "    <tr>\n",
       "      <th>33</th>\n",
       "      <td>NV</td>\n",
       "      <td>0.212121</td>\n",
       "    </tr>\n",
       "    <tr>\n",
       "      <th>47</th>\n",
       "      <td>WA</td>\n",
       "      <td>0.212121</td>\n",
       "    </tr>\n",
       "    <tr>\n",
       "      <th>21</th>\n",
       "      <td>ME</td>\n",
       "      <td>0.209677</td>\n",
       "    </tr>\n",
       "    <tr>\n",
       "      <th>26</th>\n",
       "      <td>MT</td>\n",
       "      <td>0.205882</td>\n",
       "    </tr>\n",
       "    <tr>\n",
       "      <th>2</th>\n",
       "      <td>AR</td>\n",
       "      <td>0.200000</td>\n",
       "    </tr>\n",
       "    <tr>\n",
       "      <th>16</th>\n",
       "      <td>KS</td>\n",
       "      <td>0.185714</td>\n",
       "    </tr>\n",
       "    <tr>\n",
       "      <th>34</th>\n",
       "      <td>NY</td>\n",
       "      <td>0.180723</td>\n",
       "    </tr>\n",
       "    <tr>\n",
       "      <th>23</th>\n",
       "      <td>MN</td>\n",
       "      <td>0.178571</td>\n",
       "    </tr>\n",
       "    <tr>\n",
       "      <th>38</th>\n",
       "      <td>PA</td>\n",
       "      <td>0.177778</td>\n",
       "    </tr>\n",
       "    <tr>\n",
       "      <th>19</th>\n",
       "      <td>MA</td>\n",
       "      <td>0.169231</td>\n",
       "    </tr>\n",
       "    <tr>\n",
       "      <th>6</th>\n",
       "      <td>CT</td>\n",
       "      <td>0.162162</td>\n",
       "    </tr>\n",
       "    <tr>\n",
       "      <th>27</th>\n",
       "      <td>NC</td>\n",
       "      <td>0.161765</td>\n",
       "    </tr>\n",
       "    <tr>\n",
       "      <th>30</th>\n",
       "      <td>NH</td>\n",
       "      <td>0.160714</td>\n",
       "    </tr>\n",
       "    <tr>\n",
       "      <th>10</th>\n",
       "      <td>GA</td>\n",
       "      <td>0.148148</td>\n",
       "    </tr>\n",
       "    <tr>\n",
       "      <th>8</th>\n",
       "      <td>DE</td>\n",
       "      <td>0.147541</td>\n",
       "    </tr>\n",
       "    <tr>\n",
       "      <th>36</th>\n",
       "      <td>OK</td>\n",
       "      <td>0.147541</td>\n",
       "    </tr>\n",
       "    <tr>\n",
       "      <th>37</th>\n",
       "      <td>OR</td>\n",
       "      <td>0.141026</td>\n",
       "    </tr>\n",
       "    <tr>\n",
       "      <th>44</th>\n",
       "      <td>UT</td>\n",
       "      <td>0.138889</td>\n",
       "    </tr>\n",
       "    <tr>\n",
       "      <th>5</th>\n",
       "      <td>CO</td>\n",
       "      <td>0.136364</td>\n",
       "    </tr>\n",
       "    <tr>\n",
       "      <th>17</th>\n",
       "      <td>KY</td>\n",
       "      <td>0.135593</td>\n",
       "    </tr>\n",
       "    <tr>\n",
       "      <th>41</th>\n",
       "      <td>SD</td>\n",
       "      <td>0.133333</td>\n",
       "    </tr>\n",
       "    <tr>\n",
       "      <th>35</th>\n",
       "      <td>OH</td>\n",
       "      <td>0.128205</td>\n",
       "    </tr>\n",
       "    <tr>\n",
       "      <th>9</th>\n",
       "      <td>FL</td>\n",
       "      <td>0.126984</td>\n",
       "    </tr>\n",
       "    <tr>\n",
       "      <th>15</th>\n",
       "      <td>IN</td>\n",
       "      <td>0.126761</td>\n",
       "    </tr>\n",
       "    <tr>\n",
       "      <th>13</th>\n",
       "      <td>ID</td>\n",
       "      <td>0.123288</td>\n",
       "    </tr>\n",
       "    <tr>\n",
       "      <th>50</th>\n",
       "      <td>WY</td>\n",
       "      <td>0.116883</td>\n",
       "    </tr>\n",
       "    <tr>\n",
       "      <th>24</th>\n",
       "      <td>MO</td>\n",
       "      <td>0.111111</td>\n",
       "    </tr>\n",
       "    <tr>\n",
       "      <th>46</th>\n",
       "      <td>VT</td>\n",
       "      <td>0.109589</td>\n",
       "    </tr>\n",
       "    <tr>\n",
       "      <th>1</th>\n",
       "      <td>AL</td>\n",
       "      <td>0.100000</td>\n",
       "    </tr>\n",
       "    <tr>\n",
       "      <th>32</th>\n",
       "      <td>NM</td>\n",
       "      <td>0.096774</td>\n",
       "    </tr>\n",
       "    <tr>\n",
       "      <th>28</th>\n",
       "      <td>ND</td>\n",
       "      <td>0.096774</td>\n",
       "    </tr>\n",
       "    <tr>\n",
       "      <th>49</th>\n",
       "      <td>WV</td>\n",
       "      <td>0.094340</td>\n",
       "    </tr>\n",
       "    <tr>\n",
       "      <th>42</th>\n",
       "      <td>TN</td>\n",
       "      <td>0.094340</td>\n",
       "    </tr>\n",
       "    <tr>\n",
       "      <th>7</th>\n",
       "      <td>DC</td>\n",
       "      <td>0.092593</td>\n",
       "    </tr>\n",
       "    <tr>\n",
       "      <th>39</th>\n",
       "      <td>RI</td>\n",
       "      <td>0.092308</td>\n",
       "    </tr>\n",
       "    <tr>\n",
       "      <th>48</th>\n",
       "      <td>WI</td>\n",
       "      <td>0.089744</td>\n",
       "    </tr>\n",
       "    <tr>\n",
       "      <th>14</th>\n",
       "      <td>IL</td>\n",
       "      <td>0.086207</td>\n",
       "    </tr>\n",
       "    <tr>\n",
       "      <th>29</th>\n",
       "      <td>NE</td>\n",
       "      <td>0.081967</td>\n",
       "    </tr>\n",
       "    <tr>\n",
       "      <th>18</th>\n",
       "      <td>LA</td>\n",
       "      <td>0.078431</td>\n",
       "    </tr>\n",
       "    <tr>\n",
       "      <th>12</th>\n",
       "      <td>IA</td>\n",
       "      <td>0.068182</td>\n",
       "    </tr>\n",
       "    <tr>\n",
       "      <th>45</th>\n",
       "      <td>VA</td>\n",
       "      <td>0.064935</td>\n",
       "    </tr>\n",
       "    <tr>\n",
       "      <th>3</th>\n",
       "      <td>AZ</td>\n",
       "      <td>0.062500</td>\n",
       "    </tr>\n",
       "    <tr>\n",
       "      <th>0</th>\n",
       "      <td>AK</td>\n",
       "      <td>0.057692</td>\n",
       "    </tr>\n",
       "    <tr>\n",
       "      <th>11</th>\n",
       "      <td>HI</td>\n",
       "      <td>0.056604</td>\n",
       "    </tr>\n",
       "  </tbody>\n",
       "</table>\n",
       "</div>"
      ],
      "text/plain": [
       "   State    Churn?\n",
       "31    NJ  0.264706\n",
       "4     CA  0.264706\n",
       "43    TX  0.250000\n",
       "20    MD  0.242857\n",
       "40    SC  0.233333\n",
       "22    MI  0.219178\n",
       "25    MS  0.215385\n",
       "33    NV  0.212121\n",
       "47    WA  0.212121\n",
       "21    ME  0.209677\n",
       "26    MT  0.205882\n",
       "2     AR  0.200000\n",
       "16    KS  0.185714\n",
       "34    NY  0.180723\n",
       "23    MN  0.178571\n",
       "38    PA  0.177778\n",
       "19    MA  0.169231\n",
       "6     CT  0.162162\n",
       "27    NC  0.161765\n",
       "30    NH  0.160714\n",
       "10    GA  0.148148\n",
       "8     DE  0.147541\n",
       "36    OK  0.147541\n",
       "37    OR  0.141026\n",
       "44    UT  0.138889\n",
       "5     CO  0.136364\n",
       "17    KY  0.135593\n",
       "41    SD  0.133333\n",
       "35    OH  0.128205\n",
       "9     FL  0.126984\n",
       "15    IN  0.126761\n",
       "13    ID  0.123288\n",
       "50    WY  0.116883\n",
       "24    MO  0.111111\n",
       "46    VT  0.109589\n",
       "1     AL  0.100000\n",
       "32    NM  0.096774\n",
       "28    ND  0.096774\n",
       "49    WV  0.094340\n",
       "42    TN  0.094340\n",
       "7     DC  0.092593\n",
       "39    RI  0.092308\n",
       "48    WI  0.089744\n",
       "14    IL  0.086207\n",
       "29    NE  0.081967\n",
       "18    LA  0.078431\n",
       "12    IA  0.068182\n",
       "45    VA  0.064935\n",
       "3     AZ  0.062500\n",
       "0     AK  0.057692\n",
       "11    HI  0.056604"
      ]
     },
     "execution_count": 17,
     "metadata": {},
     "output_type": "execute_result"
    }
   ],
   "source": [
    "df[['State', 'Churn?']].groupby(['State'], as_index=False).mean().sort_values(by='Churn?', ascending=False)"
   ]
  },
  {
   "cell_type": "markdown",
   "metadata": {},
   "source": [
    "__Acc Length Binned__ - No real difference shown. It can be dropped."
   ]
  },
  {
   "cell_type": "code",
   "execution_count": 18,
   "metadata": {},
   "outputs": [
    {
     "name": "stderr",
     "output_type": "stream",
     "text": [
      "C:\\Users\\benpo\\Anaconda3\\lib\\site-packages\\scipy\\stats\\stats.py:1713: FutureWarning: Using a non-tuple sequence for multidimensional indexing is deprecated; use `arr[tuple(seq)]` instead of `arr[seq]`. In the future this will be interpreted as an array index, `arr[np.array(seq)]`, which will result either in an error or a different result.\n",
      "  return np.add.reduce(sorted[indexer] * weights, axis=axis) / sumval\n"
     ]
    },
    {
     "data": {
      "text/plain": [
       "<matplotlib.axes._subplots.AxesSubplot at 0x24a5e1c3be0>"
      ]
     },
     "execution_count": 18,
     "metadata": {},
     "output_type": "execute_result"
    },
    {
     "data": {
      "image/png": "[encoded data removed]",
      "text/plain": [
       "<Figure size 432x288 with 1 Axes>"
      ]
     },
     "metadata": {
      "needs_background": "light"
     },
     "output_type": "display_data"
    }
   ],
   "source": [
    "sns.barplot(x='Acc Length Binned', y='Churn?', data=df)"
   ]
  },
  {
   "cell_type": "markdown",
   "metadata": {},
   "source": [
    "__Area Code__ - No predictive power. It can be dropped"
   ]
  },
  {
   "cell_type": "code",
   "execution_count": 19,
   "metadata": {},
   "outputs": [
    {
     "name": "stderr",
     "output_type": "stream",
     "text": [
      "C:\\Users\\benpo\\Anaconda3\\lib\\site-packages\\scipy\\stats\\stats.py:1713: FutureWarning: Using a non-tuple sequence for multidimensional indexing is deprecated; use `arr[tuple(seq)]` instead of `arr[seq]`. In the future this will be interpreted as an array index, `arr[np.array(seq)]`, which will result either in an error or a different result.\n",
      "  return np.add.reduce(sorted[indexer] * weights, axis=axis) / sumval\n"
     ]
    },
    {
     "data": {
      "text/plain": [
       "<matplotlib.axes._subplots.AxesSubplot at 0x24a5e19e6a0>"
      ]
     },
     "execution_count": 19,
     "metadata": {},
     "output_type": "execute_result"
    },
    {
     "data": {
      "image/png": "[encoded data removed]",
      "text/plain": [
       "<Figure size 432x288 with 1 Axes>"
      ]
     },
     "metadata": {
      "needs_background": "light"
     },
     "output_type": "display_data"
    }
   ],
   "source": [
    "#df[['Area Code', 'Churn?']].groupby(['Area Code'], as_index=False).mean().sort_values(by='Churn?', ascending=False)\n",
    "sns.barplot(x='Area Code', y='Churn?', data=df)"
   ]
  },
  {
   "cell_type": "markdown",
   "metadata": {},
   "source": [
    "__Intl Plan__ - If customer has international plan, they are more likely to churn. Keep attribute."
   ]
  },
  {
   "cell_type": "code",
   "execution_count": 20,
   "metadata": {},
   "outputs": [
    {
     "name": "stderr",
     "output_type": "stream",
     "text": [
      "C:\\Users\\benpo\\Anaconda3\\lib\\site-packages\\scipy\\stats\\stats.py:1713: FutureWarning: Using a non-tuple sequence for multidimensional indexing is deprecated; use `arr[tuple(seq)]` instead of `arr[seq]`. In the future this will be interpreted as an array index, `arr[np.array(seq)]`, which will result either in an error or a different result.\n",
      "  return np.add.reduce(sorted[indexer] * weights, axis=axis) / sumval\n"
     ]
    },
    {
     "data": {
      "text/plain": [
       "<matplotlib.axes._subplots.AxesSubplot at 0x24a5e2b1550>"
      ]
     },
     "execution_count": 20,
     "metadata": {},
     "output_type": "execute_result"
    },
    {
     "data": {
      "image/png": "[encoded data removed]",
      "text/plain": [
       "<Figure size 432x288 with 1 Axes>"
      ]
     },
     "metadata": {
      "needs_background": "light"
     },
     "output_type": "display_data"
    }
   ],
   "source": [
    "sns.barplot(x='Int\\'l Plan', y='Churn?', data=df)"
   ]
  },
  {
   "cell_type": "markdown",
   "metadata": {},
   "source": [
    "__VMail Plan__ - No Voicemail plan does increase chance of churn slightly. Keep for now, but it can be removed later on from model."
   ]
  },
  {
   "cell_type": "code",
   "execution_count": 21,
   "metadata": {},
   "outputs": [
    {
     "name": "stderr",
     "output_type": "stream",
     "text": [
      "C:\\Users\\benpo\\Anaconda3\\lib\\site-packages\\scipy\\stats\\stats.py:1713: FutureWarning: Using a non-tuple sequence for multidimensional indexing is deprecated; use `arr[tuple(seq)]` instead of `arr[seq]`. In the future this will be interpreted as an array index, `arr[np.array(seq)]`, which will result either in an error or a different result.\n",
      "  return np.add.reduce(sorted[indexer] * weights, axis=axis) / sumval\n"
     ]
    },
    {
     "data": {
      "text/plain": [
       "<matplotlib.axes._subplots.AxesSubplot at 0x24a5e2fa828>"
      ]
     },
     "execution_count": 21,
     "metadata": {},
     "output_type": "execute_result"
    },
    {
     "data": {
      "image/png": "[encoded data removed]",
      "text/plain": [
       "<Figure size 432x288 with 1 Axes>"
      ]
     },
     "metadata": {
      "needs_background": "light"
     },
     "output_type": "display_data"
    }
   ],
   "source": [
    "sns.barplot(x='VMail Plan', y='Churn?', data=df)"
   ]
  },
  {
   "cell_type": "markdown",
   "metadata": {},
   "source": [
    "__Total Mins Binned__ - Minutes don't appear to influence churn as the outcome is fairly random. Will drop field based on this and fact there are a high number of outliers previously identified for this attribute. "
   ]
  },
  {
   "cell_type": "code",
   "execution_count": 22,
   "metadata": {},
   "outputs": [
    {
     "name": "stderr",
     "output_type": "stream",
     "text": [
      "C:\\Users\\benpo\\Anaconda3\\lib\\site-packages\\scipy\\stats\\stats.py:1713: FutureWarning: Using a non-tuple sequence for multidimensional indexing is deprecated; use `arr[tuple(seq)]` instead of `arr[seq]`. In the future this will be interpreted as an array index, `arr[np.array(seq)]`, which will result either in an error or a different result.\n",
      "  return np.add.reduce(sorted[indexer] * weights, axis=axis) / sumval\n"
     ]
    },
    {
     "data": {
      "text/plain": [
       "<matplotlib.axes._subplots.AxesSubplot at 0x24a5e35b358>"
      ]
     },
     "execution_count": 22,
     "metadata": {},
     "output_type": "execute_result"
    },
    {
     "data": {
      "image/png": "[encoded data removed]",
      "text/plain": [
       "<Figure size 432x288 with 1 Axes>"
      ]
     },
     "metadata": {
      "needs_background": "light"
     },
     "output_type": "display_data"
    }
   ],
   "source": [
    "sns.barplot(x='Total Mins Binned', y='Churn?', data=df)"
   ]
  },
  {
   "cell_type": "markdown",
   "metadata": {},
   "source": [
    "__Total Calls Binned__ - Total Calls doesn't appear to influence the class attribute. Will drop field based on this and fact there are a high number of outliers previously identified for this attribute. "
   ]
  },
  {
   "cell_type": "code",
   "execution_count": 23,
   "metadata": {},
   "outputs": [
    {
     "name": "stderr",
     "output_type": "stream",
     "text": [
      "C:\\Users\\benpo\\Anaconda3\\lib\\site-packages\\scipy\\stats\\stats.py:1713: FutureWarning: Using a non-tuple sequence for multidimensional indexing is deprecated; use `arr[tuple(seq)]` instead of `arr[seq]`. In the future this will be interpreted as an array index, `arr[np.array(seq)]`, which will result either in an error or a different result.\n",
      "  return np.add.reduce(sorted[indexer] * weights, axis=axis) / sumval\n"
     ]
    },
    {
     "data": {
      "text/plain": [
       "<matplotlib.axes._subplots.AxesSubplot at 0x24a5e3c0898>"
      ]
     },
     "execution_count": 23,
     "metadata": {},
     "output_type": "execute_result"
    },
    {
     "data": {
      "image/png": "[encoded data removed]",
      "text/plain": [
       "<Figure size 432x288 with 1 Axes>"
      ]
     },
     "metadata": {
      "needs_background": "light"
     },
     "output_type": "display_data"
    }
   ],
   "source": [
    "sns.barplot(x='Total Calls Binned', y='Churn?', data=df)"
   ]
  },
  {
   "cell_type": "markdown",
   "metadata": {},
   "source": [
    "__Total Charge Binned__ - Customer is more likely to churn if their charge is high. Create a feature if charge >80 (y/n)"
   ]
  },
  {
   "cell_type": "code",
   "execution_count": 24,
   "metadata": {},
   "outputs": [
    {
     "name": "stderr",
     "output_type": "stream",
     "text": [
      "C:\\Users\\benpo\\Anaconda3\\lib\\site-packages\\scipy\\stats\\stats.py:1713: FutureWarning: Using a non-tuple sequence for multidimensional indexing is deprecated; use `arr[tuple(seq)]` instead of `arr[seq]`. In the future this will be interpreted as an array index, `arr[np.array(seq)]`, which will result either in an error or a different result.\n",
      "  return np.add.reduce(sorted[indexer] * weights, axis=axis) / sumval\n"
     ]
    },
    {
     "data": {
      "text/plain": [
       "<matplotlib.axes._subplots.AxesSubplot at 0x24a5e4304a8>"
      ]
     },
     "execution_count": 24,
     "metadata": {},
     "output_type": "execute_result"
    },
    {
     "data": {
      "image/png": "[encoded data removed]",
      "text/plain": [
       "<Figure size 432x288 with 1 Axes>"
      ]
     },
     "metadata": {
      "needs_background": "light"
     },
     "output_type": "display_data"
    }
   ],
   "source": [
    "sns.barplot(x='Total Charge Binned', y='Churn?', data=df)"
   ]
  },
  {
   "cell_type": "code",
   "execution_count": 25,
   "metadata": {},
   "outputs": [],
   "source": [
    "#Create new feature\n",
    "df['Total Charge > 80'] = df['Total Charge'].apply(lambda x: 1 if x >80 else 0)"
   ]
  },
  {
   "cell_type": "markdown",
   "metadata": {},
   "source": [
    "__CustServ Calls__ - The more calls equals a much greater chance of churn. Greater than 3 looks like a strong indicator. Create new feature based on this."
   ]
  },
  {
   "cell_type": "code",
   "execution_count": 26,
   "metadata": {},
   "outputs": [
    {
     "name": "stderr",
     "output_type": "stream",
     "text": [
      "C:\\Users\\benpo\\Anaconda3\\lib\\site-packages\\scipy\\stats\\stats.py:1713: FutureWarning: Using a non-tuple sequence for multidimensional indexing is deprecated; use `arr[tuple(seq)]` instead of `arr[seq]`. In the future this will be interpreted as an array index, `arr[np.array(seq)]`, which will result either in an error or a different result.\n",
      "  return np.add.reduce(sorted[indexer] * weights, axis=axis) / sumval\n"
     ]
    },
    {
     "data": {
      "text/plain": [
       "<matplotlib.axes._subplots.AxesSubplot at 0x24a5f4399e8>"
      ]
     },
     "execution_count": 26,
     "metadata": {},
     "output_type": "execute_result"
    },
    {
     "data": {
      "image/png": "[encoded data removed]",
      "text/plain": [
       "<Figure size 432x288 with 1 Axes>"
      ]
     },
     "metadata": {
      "needs_background": "light"
     },
     "output_type": "display_data"
    }
   ],
   "source": [
    "sns.barplot(x='CustServ Calls', y='Churn?', data=df)"
   ]
  },
  {
   "cell_type": "code",
   "execution_count": 27,
   "metadata": {},
   "outputs": [],
   "source": [
    "#Create new feature\n",
    "df['CustServ Calls >3'] = df['CustServ Calls'].apply(lambda x: 1 if x >3 else 0)\n",
    "#df.info()"
   ]
  },
  {
   "cell_type": "markdown",
   "metadata": {},
   "source": [
    "## G) Final Clean-up"
   ]
  },
  {
   "cell_type": "markdown",
   "metadata": {},
   "source": [
    "Above there has already been some data clean up such as removing attributes not needed and coverting categorical data to numerical values. In this section anything remaining before data is used for modeling is completed"
   ]
  },
  {
   "cell_type": "markdown",
   "metadata": {},
   "source": [
    "Remove columns that are not needed (identified in part f)"
   ]
  },
  {
   "cell_type": "code",
   "execution_count": 28,
   "metadata": {},
   "outputs": [],
   "source": [
    "#df.drop('State', axis=1, inplace=True)\n",
    "df.drop('Account Length', axis=1, inplace=True)\n",
    "df.drop('Area Code', axis=1, inplace=True)\n",
    "df.drop('Day Mins', axis=1, inplace=True)\n",
    "df.drop('Day Calls', axis=1, inplace=True)\n",
    "df.drop('Day Charge', axis=1, inplace=True)\n",
    "df.drop('Eve Mins', axis=1, inplace=True)\n",
    "df.drop('Eve Calls', axis=1, inplace=True)\n",
    "df.drop('Eve Charge', axis=1, inplace=True)\n",
    "df.drop('Night Mins', axis=1, inplace=True)\n",
    "df.drop('Night Calls', axis=1, inplace=True)\n",
    "df.drop('Night Charge', axis=1, inplace=True)\n",
    "df.drop('Intl Mins', axis=1, inplace=True)\n",
    "df.drop('Intl Calls', axis=1, inplace=True)\n",
    "df.drop('Intl Charge', axis=1, inplace=True)\n",
    "df.drop('Total Mins Non-Intl', axis=1, inplace=True)\n",
    "df.drop('Total Calls Non-Intl', axis=1, inplace=True)\n",
    "df.drop('Total Charge Non-Intl', axis=1, inplace=True)\n",
    "df.drop('Total Mins', axis=1, inplace=True)\n",
    "df.drop('Total Calls', axis=1, inplace=True)\n",
    "#df.drop('Total Charge', axis=1, inplace=True)\n",
    "df.drop('Acc Length Binned', axis=1, inplace=True)\n",
    "df.drop('Total Mins Binned', axis=1, inplace=True)\n",
    "df.drop('Total Calls Binned', axis=1, inplace=True)\n",
    "df.drop('Total Charge Binned', axis=1, inplace=True)\n",
    "df.drop('CustServ Calls', axis=1, inplace=True)\n"
   ]
  },
  {
   "cell_type": "markdown",
   "metadata": {},
   "source": [
    "There are now 7 features to use for modeling after investigating which attributes can influence the class variable and then removing the ones are unrelated. "
   ]
  },
  {
   "cell_type": "code",
   "execution_count": 29,
   "metadata": {},
   "outputs": [
    {
     "name": "stdout",
     "output_type": "stream",
     "text": [
      "<class 'pandas.core.frame.DataFrame'>\n",
      "RangeIndex: 3333 entries, 0 to 3332\n",
      "Data columns (total 8 columns):\n",
      "State                3333 non-null object\n",
      "Int'l Plan           3333 non-null int32\n",
      "VMail Plan           3333 non-null int32\n",
      "VMail Message        3333 non-null int64\n",
      "Churn?               3333 non-null int32\n",
      "Total Charge         3333 non-null int64\n",
      "Total Charge > 80    3333 non-null int64\n",
      "CustServ Calls >3    3333 non-null int64\n",
      "dtypes: int32(3), int64(4), object(1)\n",
      "memory usage: 169.3+ KB\n"
     ]
    }
   ],
   "source": [
    "df.info()"
   ]
  },
  {
   "cell_type": "markdown",
   "metadata": {},
   "source": [
    "Finally for each newly created attibute used determine churn, group by and take a count of no churn.churn to see size of each influencer and confirm it should still be included. Would have exluded if attributes were highly weighted to either no churn or churn. "
   ]
  },
  {
   "cell_type": "code",
   "execution_count": 30,
   "metadata": {},
   "outputs": [
    {
     "data": {
      "text/plain": [
       "Int'l Plan\n",
       "0    3010\n",
       "1     323\n",
       "Name: Churn?, dtype: int64"
      ]
     },
     "execution_count": 30,
     "metadata": {},
     "output_type": "execute_result"
    }
   ],
   "source": [
    "df_groupby2 = (df.groupby(['Int\\'l Plan'])['Churn?'].agg('count'))\n",
    "df_groupby2 "
   ]
  },
  {
   "cell_type": "code",
   "execution_count": 31,
   "metadata": {},
   "outputs": [
    {
     "data": {
      "text/plain": [
       "VMail Plan\n",
       "0    2411\n",
       "1     922\n",
       "Name: Churn?, dtype: int64"
      ]
     },
     "execution_count": 31,
     "metadata": {},
     "output_type": "execute_result"
    }
   ],
   "source": [
    "df_groupby2 = (df.groupby(['VMail Plan'])['Churn?'].agg('count'))\n",
    "df_groupby2 "
   ]
  },
  {
   "cell_type": "code",
   "execution_count": 32,
   "metadata": {},
   "outputs": [
    {
     "data": {
      "text/plain": [
       "Total Charge > 80\n",
       "0    3266\n",
       "1      67\n",
       "Name: Churn?, dtype: int64"
      ]
     },
     "execution_count": 32,
     "metadata": {},
     "output_type": "execute_result"
    }
   ],
   "source": [
    "df_groupby2 = (df.groupby(['Total Charge > 80'])['Churn?'].agg('count'))\n",
    "df_groupby2 "
   ]
  },
  {
   "cell_type": "code",
   "execution_count": 33,
   "metadata": {},
   "outputs": [
    {
     "data": {
      "text/plain": [
       "CustServ Calls >3\n",
       "0    3066\n",
       "1     267\n",
       "Name: Churn?, dtype: int64"
      ]
     },
     "execution_count": 33,
     "metadata": {},
     "output_type": "execute_result"
    }
   ],
   "source": [
    "df_groupby2 = (df.groupby(['CustServ Calls >3'])['Churn?'].agg('count'))\n",
    "df_groupby2 "
   ]
  },
  {
   "cell_type": "markdown",
   "metadata": {},
   "source": [
    "## H) Three way data split (training 60%, validation 20%, test 20%)"
   ]
  },
  {
   "cell_type": "markdown",
   "metadata": {},
   "source": [
    "The function below takes the dataframe and does a three way split based on provided percentges. It also randomizes the index so that the output is a random sample. "
   ]
  },
  {
   "cell_type": "code",
   "execution_count": 34,
   "metadata": {},
   "outputs": [
    {
     "name": "stderr",
     "output_type": "stream",
     "text": [
      "C:\\Users\\benpo\\Anaconda3\\lib\\site-packages\\ipykernel_launcher.py:7: DeprecationWarning: \n",
      ".ix is deprecated. Please use\n",
      ".loc for label based indexing or\n",
      ".iloc for positional indexing\n",
      "\n",
      "See the documentation here:\n",
      "http://pandas.pydata.org/pandas-docs/stable/indexing.html#ix-indexer-is-deprecated\n",
      "  import sys\n",
      "C:\\Users\\benpo\\Anaconda3\\lib\\site-packages\\ipykernel_launcher.py:8: DeprecationWarning: \n",
      ".ix is deprecated. Please use\n",
      ".loc for label based indexing or\n",
      ".iloc for positional indexing\n",
      "\n",
      "See the documentation here:\n",
      "http://pandas.pydata.org/pandas-docs/stable/indexing.html#ix-indexer-is-deprecated\n",
      "  \n",
      "C:\\Users\\benpo\\Anaconda3\\lib\\site-packages\\ipykernel_launcher.py:9: DeprecationWarning: \n",
      ".ix is deprecated. Please use\n",
      ".loc for label based indexing or\n",
      ".iloc for positional indexing\n",
      "\n",
      "See the documentation here:\n",
      "http://pandas.pydata.org/pandas-docs/stable/indexing.html#ix-indexer-is-deprecated\n",
      "  if __name__ == '__main__':\n"
     ]
    }
   ],
   "source": [
    "def train_validate_test_split(df, train_percent=.6, validate_percent=.2, seed=None):\n",
    "    np.random.seed(seed)\n",
    "    perm = np.random.permutation(df.index)\n",
    "    m = len(df.index)\n",
    "    train_end = int(train_percent * m)\n",
    "    validate_end = int(validate_percent * m) + train_end\n",
    "    train = df.ix[perm[:train_end]]\n",
    "    validate = df.ix[perm[train_end:validate_end]]\n",
    "    test = df.ix[perm[validate_end:]]\n",
    "    return train, validate, test\n",
    "\n",
    "np.random.seed([3,1415])\n",
    "\n",
    "train, validate, test = train_validate_test_split(df)"
   ]
  },
  {
   "cell_type": "code",
   "execution_count": 35,
   "metadata": {},
   "outputs": [
    {
     "name": "stdout",
     "output_type": "stream",
     "text": [
      "<class 'pandas.core.frame.DataFrame'>\n",
      "Int64Index: 668 entries, 373 to 2237\n",
      "Data columns (total 8 columns):\n",
      "State                668 non-null object\n",
      "Int'l Plan           668 non-null int32\n",
      "VMail Plan           668 non-null int32\n",
      "VMail Message        668 non-null int64\n",
      "Churn?               668 non-null int32\n",
      "Total Charge         668 non-null int64\n",
      "Total Charge > 80    668 non-null int64\n",
      "CustServ Calls >3    668 non-null int64\n",
      "dtypes: int32(3), int64(4), object(1)\n",
      "memory usage: 39.1+ KB\n"
     ]
    }
   ],
   "source": [
    "test.info()"
   ]
  },
  {
   "cell_type": "code",
   "execution_count": 36,
   "metadata": {},
   "outputs": [],
   "source": [
    "df.to_csv(\"customer _churn_processed.csv\", sep=',', encoding='utf-8')"
   ]
  },
  {
   "cell_type": "code",
   "execution_count": null,
   "metadata": {},
   "outputs": [],
   "source": []
  },
  {
   "cell_type": "markdown",
   "metadata": {},
   "source": [
    "# PART 2 - Predictive Modeling (Classification)"
   ]
  },
  {
   "cell_type": "markdown",
   "metadata": {},
   "source": [
    "# DECISION TREE"
   ]
  },
  {
   "cell_type": "markdown",
   "metadata": {},
   "source": [
    "## A) Read partially processed file from earlier analysis and review included variables"
   ]
  },
  {
   "cell_type": "code",
   "execution_count": 37,
   "metadata": {},
   "outputs": [
    {
     "name": "stdout",
     "output_type": "stream",
     "text": [
      "<class 'pandas.core.frame.DataFrame'>\n",
      "RangeIndex: 3333 entries, 0 to 3332\n",
      "Data columns (total 9 columns):\n",
      "Unnamed: 0           3333 non-null int64\n",
      "State                3333 non-null object\n",
      "Int'l Plan           3333 non-null int64\n",
      "VMail Plan           3333 non-null int64\n",
      "VMail Message        3333 non-null int64\n",
      "Churn?               3333 non-null int64\n",
      "Total Charge         3333 non-null int64\n",
      "Total Charge > 80    3333 non-null int64\n",
      "CustServ Calls >3    3333 non-null int64\n",
      "dtypes: int64(8), object(1)\n",
      "memory usage: 234.4+ KB\n"
     ]
    }
   ],
   "source": [
    "# import dataset \n",
    "\n",
    "df = pd.read_csv(\"customer _churn_processed.csv\") \n",
    "\n",
    "\n",
    "#Verify import was successful and check for missing values\n",
    "#Confirmed and there is no missing data\n",
    "df.info()"
   ]
  },
  {
   "cell_type": "markdown",
   "metadata": {},
   "source": [
    "## B) Confirm relative frequency of churn in the dataset  \n",
    "The results of the analysis show an imbalance of churn versus non-churn "
   ]
  },
  {
   "cell_type": "code",
   "execution_count": 38,
   "metadata": {},
   "outputs": [
    {
     "name": "stdout",
     "output_type": "stream",
     "text": [
      "Churn?\n",
      "0    2850\n",
      "1     483\n",
      "Name: Churn?, dtype: int64\n",
      "Churn rate -  0.14491449144914492\n"
     ]
    }
   ],
   "source": [
    "\n",
    "df_groupby = (df.groupby(['Churn?'])['Churn?'].agg('count'))\n",
    "\n",
    "print (df_groupby)\n",
    "print (\"Churn rate - \",483/(2850+483))"
   ]
  },
  {
   "cell_type": "markdown",
   "metadata": {},
   "source": [
    "## C) List the names of columns for easy later reference"
   ]
  },
  {
   "cell_type": "code",
   "execution_count": 39,
   "metadata": {},
   "outputs": [
    {
     "name": "stdout",
     "output_type": "stream",
     "text": [
      "['Unnamed: 0', 'State', \"Int'l Plan\", 'VMail Plan', 'VMail Message', 'Churn?', 'Total Charge', 'Total Charge > 80', 'CustServ Calls >3']\n"
     ]
    }
   ],
   "source": [
    "# create list with column names \n",
    "\n",
    "col_nm = list(df.columns.values)\n",
    "\n",
    "print (col_nm)"
   ]
  },
  {
   "cell_type": "code",
   "execution_count": 40,
   "metadata": {},
   "outputs": [],
   "source": [
    "## Create dummy variables for state to feed into decision tree \n",
    "\n",
    "s = df['State']\n",
    "state_dummies = pd.get_dummies(s)"
   ]
  },
  {
   "cell_type": "markdown",
   "metadata": {},
   "source": [
    "## D) Concatenate state_dummies with main df and drop original state variable "
   ]
  },
  {
   "cell_type": "code",
   "execution_count": 41,
   "metadata": {},
   "outputs": [],
   "source": [
    "\n",
    "df = pd.concat([df,state_dummies], axis=1, sort=False)\n",
    "df.drop('State',  axis=1, inplace=True)\n",
    "df.drop('Unnamed: 0',  axis=1, inplace=True)\n"
   ]
  },
  {
   "cell_type": "code",
   "execution_count": 42,
   "metadata": {},
   "outputs": [
    {
     "name": "stderr",
     "output_type": "stream",
     "text": [
      "C:\\Users\\benpo\\Anaconda3\\lib\\site-packages\\ipykernel_launcher.py:10: DeprecationWarning: \n",
      ".ix is deprecated. Please use\n",
      ".loc for label based indexing or\n",
      ".iloc for positional indexing\n",
      "\n",
      "See the documentation here:\n",
      "http://pandas.pydata.org/pandas-docs/stable/indexing.html#ix-indexer-is-deprecated\n",
      "  # Remove the CWD from sys.path while we load stuff.\n",
      "C:\\Users\\benpo\\Anaconda3\\lib\\site-packages\\ipykernel_launcher.py:11: DeprecationWarning: \n",
      ".ix is deprecated. Please use\n",
      ".loc for label based indexing or\n",
      ".iloc for positional indexing\n",
      "\n",
      "See the documentation here:\n",
      "http://pandas.pydata.org/pandas-docs/stable/indexing.html#ix-indexer-is-deprecated\n",
      "  # This is added back by InteractiveShellApp.init_path()\n",
      "C:\\Users\\benpo\\Anaconda3\\lib\\site-packages\\ipykernel_launcher.py:12: DeprecationWarning: \n",
      ".ix is deprecated. Please use\n",
      ".loc for label based indexing or\n",
      ".iloc for positional indexing\n",
      "\n",
      "See the documentation here:\n",
      "http://pandas.pydata.org/pandas-docs/stable/indexing.html#ix-indexer-is-deprecated\n",
      "  if sys.path[0] == '':\n"
     ]
    }
   ],
   "source": [
    "# Create train, test and validation data sets (60,20,20)\n",
    "# note generates and error but works fine \n",
    "\n",
    "def train_validate_test_split(df, train_percent=.6, validate_percent=.2, seed=None):\n",
    "    np.random.seed(seed)\n",
    "    perm = np.random.permutation(df.index)\n",
    "    m = len(df.index)\n",
    "    train_end = int(train_percent * m)\n",
    "    validate_end = int(validate_percent * m) + train_end\n",
    "    train = df.ix[perm[:train_end]]\n",
    "    validate = df.ix[perm[train_end:validate_end]]\n",
    "    test = df.ix[perm[validate_end:]]\n",
    "    return train, validate, test\n",
    "\n",
    "np.random.seed([3,1415])\n",
    "\n",
    "train, validate, test = train_validate_test_split(df)"
   ]
  },
  {
   "cell_type": "markdown",
   "metadata": {},
   "source": [
    "## E) Confirm the split took place correctly."
   ]
  },
  {
   "cell_type": "code",
   "execution_count": 43,
   "metadata": {},
   "outputs": [
    {
     "name": "stdout",
     "output_type": "stream",
     "text": [
      "       Int'l Plan  VMail Plan  VMail Message      Churn?  Total Charge  \\\n",
      "count  668.000000  668.000000     668.000000  668.000000    668.000000   \n",
      "mean     0.109281    0.255988       7.492515    0.149701     59.008982   \n",
      "std      0.312226    0.436742      13.220819    0.357045     10.372951   \n",
      "min      0.000000    0.000000       0.000000    0.000000     25.000000   \n",
      "25%      0.000000    0.000000       0.000000    0.000000     52.000000   \n",
      "50%      0.000000    0.000000       0.000000    0.000000     58.000000   \n",
      "75%      0.000000    1.000000      15.000000    0.000000     66.000000   \n",
      "max      1.000000    1.000000      45.000000    1.000000     92.000000   \n",
      "\n",
      "       Total Charge > 80  CustServ Calls >3          AK          AL  \\\n",
      "count         668.000000         668.000000  668.000000  668.000000   \n",
      "mean            0.016467           0.062874    0.014970    0.023952   \n",
      "std             0.127358           0.242919    0.121524    0.153015   \n",
      "min             0.000000           0.000000    0.000000    0.000000   \n",
      "25%             0.000000           0.000000    0.000000    0.000000   \n",
      "50%             0.000000           0.000000    0.000000    0.000000   \n",
      "75%             0.000000           0.000000    0.000000    0.000000   \n",
      "max             1.000000           1.000000    1.000000    1.000000   \n",
      "\n",
      "               AR     ...              SD          TN          TX          UT  \\\n",
      "count  668.000000     ...      668.000000  668.000000  668.000000  668.000000   \n",
      "mean     0.019461     ...        0.023952    0.008982    0.022455    0.025449   \n",
      "std      0.138242     ...        0.153015    0.094418    0.148269    0.157603   \n",
      "min      0.000000     ...        0.000000    0.000000    0.000000    0.000000   \n",
      "25%      0.000000     ...        0.000000    0.000000    0.000000    0.000000   \n",
      "50%      0.000000     ...        0.000000    0.000000    0.000000    0.000000   \n",
      "75%      0.000000     ...        0.000000    0.000000    0.000000    0.000000   \n",
      "max      1.000000     ...        1.000000    1.000000    1.000000    1.000000   \n",
      "\n",
      "               VA          VT          WA          WI          WV          WY  \n",
      "count  668.000000  668.000000  668.000000  668.000000  668.000000  668.000000  \n",
      "mean     0.017964    0.017964    0.019461    0.026946    0.031437    0.025449  \n",
      "std      0.132920    0.132920    0.138242    0.162047    0.174627    0.157603  \n",
      "min      0.000000    0.000000    0.000000    0.000000    0.000000    0.000000  \n",
      "25%      0.000000    0.000000    0.000000    0.000000    0.000000    0.000000  \n",
      "50%      0.000000    0.000000    0.000000    0.000000    0.000000    0.000000  \n",
      "75%      0.000000    0.000000    0.000000    0.000000    0.000000    0.000000  \n",
      "max      1.000000    1.000000    1.000000    1.000000    1.000000    1.000000  \n",
      "\n",
      "[8 rows x 58 columns]\n",
      "        Int'l Plan   VMail Plan  VMail Message       Churn?  Total Charge  \\\n",
      "count  1999.000000  1999.000000    1999.000000  1999.000000   1999.000000   \n",
      "mean      0.100050     0.273137       8.034017     0.147074     58.882441   \n",
      "std       0.300142     0.445682      13.724912     0.354268     10.554245   \n",
      "min       0.000000     0.000000       0.000000     0.000000     25.000000   \n",
      "25%       0.000000     0.000000       0.000000     0.000000     52.000000   \n",
      "50%       0.000000     0.000000       0.000000     0.000000     59.000000   \n",
      "75%       0.000000     1.000000      19.000000     0.000000     66.000000   \n",
      "max       1.000000     1.000000      50.000000     1.000000     96.000000   \n",
      "\n",
      "       Total Charge > 80  CustServ Calls >3           AK           AL  \\\n",
      "count        1999.000000        1999.000000  1999.000000  1999.000000   \n",
      "mean            0.020510           0.086043     0.014507     0.022511   \n",
      "std             0.141773           0.280498     0.119599     0.148376   \n",
      "min             0.000000           0.000000     0.000000     0.000000   \n",
      "25%             0.000000           0.000000     0.000000     0.000000   \n",
      "50%             0.000000           0.000000     0.000000     0.000000   \n",
      "75%             0.000000           0.000000     0.000000     0.000000   \n",
      "max             1.000000           1.000000     1.000000     1.000000   \n",
      "\n",
      "                AR     ...                SD           TN           TX  \\\n",
      "count  1999.000000     ...       1999.000000  1999.000000  1999.000000   \n",
      "mean      0.014007     ...          0.015508     0.018009     0.024012   \n",
      "std       0.117549     ...          0.123592     0.133017     0.153125   \n",
      "min       0.000000     ...          0.000000     0.000000     0.000000   \n",
      "25%       0.000000     ...          0.000000     0.000000     0.000000   \n",
      "50%       0.000000     ...          0.000000     0.000000     0.000000   \n",
      "75%       0.000000     ...          0.000000     0.000000     0.000000   \n",
      "max       1.000000     ...          1.000000     1.000000     1.000000   \n",
      "\n",
      "                UT           VA           VT           WA           WI  \\\n",
      "count  1999.000000  1999.000000  1999.000000  1999.000000  1999.000000   \n",
      "mean      0.020510     0.024512     0.020510     0.019010     0.020510   \n",
      "std       0.141773     0.154672     0.141773     0.136592     0.141773   \n",
      "min       0.000000     0.000000     0.000000     0.000000     0.000000   \n",
      "25%       0.000000     0.000000     0.000000     0.000000     0.000000   \n",
      "50%       0.000000     0.000000     0.000000     0.000000     0.000000   \n",
      "75%       0.000000     0.000000     0.000000     0.000000     0.000000   \n",
      "max       1.000000     1.000000     1.000000     1.000000     1.000000   \n",
      "\n",
      "                WV           WY  \n",
      "count  1999.000000  1999.000000  \n",
      "mean      0.031516     0.020010  \n",
      "std       0.174751     0.140069  \n",
      "min       0.000000     0.000000  \n",
      "25%       0.000000     0.000000  \n",
      "50%       0.000000     0.000000  \n",
      "75%       0.000000     0.000000  \n",
      "max       1.000000     1.000000  \n",
      "\n",
      "[8 rows x 58 columns]\n",
      "       Int'l Plan  VMail Plan  VMail Message      Churn?  Total Charge  \\\n",
      "count  666.000000  666.000000     666.000000  666.000000    666.000000   \n",
      "mean     0.075075    0.307808       8.902402    0.133634     59.147147   \n",
      "std      0.263710    0.461933      14.018391    0.340514     10.489349   \n",
      "min      0.000000    0.000000       0.000000    0.000000     22.000000   \n",
      "25%      0.000000    0.000000       0.000000    0.000000     53.000000   \n",
      "50%      0.000000    0.000000       0.000000    0.000000     59.000000   \n",
      "75%      0.000000    1.000000      22.000000    0.000000     66.000000   \n",
      "max      1.000000    1.000000      51.000000    1.000000     89.000000   \n",
      "\n",
      "       Total Charge > 80  CustServ Calls >3          AK          AL  \\\n",
      "count         666.000000         666.000000  666.000000  666.000000   \n",
      "mean            0.022523           0.079580    0.019520    0.028529   \n",
      "std             0.148487           0.270845    0.138446    0.166602   \n",
      "min             0.000000           0.000000    0.000000    0.000000   \n",
      "25%             0.000000           0.000000    0.000000    0.000000   \n",
      "50%             0.000000           0.000000    0.000000    0.000000   \n",
      "75%             0.000000           0.000000    0.000000    0.000000   \n",
      "max             1.000000           1.000000    1.000000    1.000000   \n",
      "\n",
      "               AR     ...              SD          TN          TX          UT  \\\n",
      "count  666.000000     ...      666.000000  666.000000  666.000000  666.000000   \n",
      "mean     0.021021     ...        0.019520    0.016517    0.013514    0.021021   \n",
      "std      0.143562     ...        0.138446    0.127547    0.115546    0.143562   \n",
      "min      0.000000     ...        0.000000    0.000000    0.000000    0.000000   \n",
      "25%      0.000000     ...        0.000000    0.000000    0.000000    0.000000   \n",
      "50%      0.000000     ...        0.000000    0.000000    0.000000    0.000000   \n",
      "75%      0.000000     ...        0.000000    0.000000    0.000000    0.000000   \n",
      "max      1.000000     ...        1.000000    1.000000    1.000000    1.000000   \n",
      "\n",
      "               VA          VT          WA          WI          WV          WY  \n",
      "count  666.000000  666.000000  666.000000  666.000000  666.000000  666.000000  \n",
      "mean     0.024024    0.030030    0.022523    0.028529    0.033033    0.030030  \n",
      "std      0.153239    0.170798    0.148487    0.166602    0.178857    0.170798  \n",
      "min      0.000000    0.000000    0.000000    0.000000    0.000000    0.000000  \n",
      "25%      0.000000    0.000000    0.000000    0.000000    0.000000    0.000000  \n",
      "50%      0.000000    0.000000    0.000000    0.000000    0.000000    0.000000  \n",
      "75%      0.000000    0.000000    0.000000    0.000000    0.000000    0.000000  \n",
      "max      1.000000    1.000000    1.000000    1.000000    1.000000    1.000000  \n",
      "\n",
      "[8 rows x 58 columns]\n"
     ]
    }
   ],
   "source": [
    "# confirm split \n",
    "print(test.describe())\n",
    "print(train.describe())\n",
    "print(validate.describe())"
   ]
  },
  {
   "cell_type": "markdown",
   "metadata": {},
   "source": [
    "## F) Create separate target vector to feed into the algorithm."
   ]
  },
  {
   "cell_type": "code",
   "execution_count": 44,
   "metadata": {},
   "outputs": [],
   "source": [
    "# create separate arrays for target variable \n",
    "\n",
    "\n",
    "train_target = train['Churn?']\n",
    "test_target = test['Churn?']\n",
    "validate_target = validate['Churn?']\n",
    "\n",
    "\n",
    "# delete target variable from train and test  dataframes\n",
    "\n",
    "train = train.drop('Churn?',1)\n",
    "test = test.drop('Churn?',1)\n",
    "validate = validate.drop('Churn?',1)"
   ]
  },
  {
   "cell_type": "markdown",
   "metadata": {},
   "source": [
    "## G) Import decision tree and fit model \n",
    "#importing other algorithms is very similar "
   ]
  },
  {
   "cell_type": "code",
   "execution_count": 45,
   "metadata": {},
   "outputs": [
    {
     "data": {
      "text/plain": [
       "DecisionTreeClassifier(class_weight=None, criterion='gini', max_depth=None,\n",
       "            max_features=None, max_leaf_nodes=None,\n",
       "            min_impurity_decrease=0.0, min_impurity_split=None,\n",
       "            min_samples_leaf=10, min_samples_split=5,\n",
       "            min_weight_fraction_leaf=0.0, presort=False, random_state=0,\n",
       "            splitter='best')"
      ]
     },
     "execution_count": 45,
     "metadata": {},
     "output_type": "execute_result"
    }
   ],
   "source": [
    "from sklearn.tree import DecisionTreeClassifier\n",
    "from sklearn.tree import tree\n",
    "from sklearn.model_selection import train_test_split\n",
    "\n",
    "\n",
    "tree = DecisionTreeClassifier(criterion = 'gini', splitter='best', max_depth=None, min_samples_split=5, \n",
    "                              min_samples_leaf=10, min_weight_fraction_leaf=0.0,  random_state=0, \n",
    "                              max_leaf_nodes=None, min_impurity_decrease=0.0, min_impurity_split=None, class_weight=None,\n",
    "                              presort=False)\n",
    "\n",
    "tree.fit (train,train_target)"
   ]
  },
  {
   "cell_type": "code",
   "execution_count": 46,
   "metadata": {},
   "outputs": [],
   "source": [
    "# Score train data set "
   ]
  },
  {
   "cell_type": "code",
   "execution_count": 47,
   "metadata": {},
   "outputs": [],
   "source": [
    "# Output model scores for test\n",
    "\n",
    "test_pred =  tree.predict(test)"
   ]
  },
  {
   "cell_type": "code",
   "execution_count": 48,
   "metadata": {},
   "outputs": [
    {
     "data": {
      "text/plain": [
       "{0.938622754491018,\n",
       " 'fscore: [0.96480687 0.76023392]',\n",
       " 'precision: [0.94137353 0.91549296]',\n",
       " 'recall: [0.98943662 0.65      ]',\n",
       " 'support: [568 100]'}"
      ]
     },
     "execution_count": 48,
     "metadata": {},
     "output_type": "execute_result"
    }
   ],
   "source": [
    "# Calculate model evaluation metrics \n",
    "\n",
    "\n",
    "from sklearn.metrics import precision_recall_fscore_support as score \n",
    "from sklearn.metrics import accuracy_score\n",
    "precision, recall, fscore, support = score(test_target, test_pred) \n",
    "\n",
    "\n",
    "precision = ('precision: {}'.format(precision)) \n",
    "recall = ('recall: {}'.format(recall)) \n",
    "fscore = ('fscore: {}'.format(fscore)) \n",
    "support = ('support: {}'.format(support))\n",
    "accuracy = accuracy_score(test_target, test_pred, normalize=True)\n",
    "\n",
    "output = {accuracy, precision, recall, fscore, support}\n",
    "output"
   ]
  },
  {
   "cell_type": "code",
   "execution_count": 49,
   "metadata": {},
   "outputs": [],
   "source": [
    "# Create confusion matrix"
   ]
  },
  {
   "cell_type": "code",
   "execution_count": 50,
   "metadata": {},
   "outputs": [
    {
     "name": "stdout",
     "output_type": "stream",
     "text": [
      "col_0     0   1\n",
      "Churn?         \n",
      "0       562   6\n",
      "1        35  65\n"
     ]
    }
   ],
   "source": [
    "df_confusion = pd.crosstab(test_target, test_pred)\n",
    "print (df_confusion)"
   ]
  },
  {
   "cell_type": "code",
   "execution_count": 51,
   "metadata": {},
   "outputs": [],
   "source": [
    "# Use grid search to improve performance "
   ]
  },
  {
   "cell_type": "code",
   "execution_count": 52,
   "metadata": {},
   "outputs": [
    {
     "name": "stdout",
     "output_type": "stream",
     "text": [
      "The parameters combination that would give best accuracy is : \n",
      "{'criterion': 'gini', 'max_depth': 3, 'min_samples_split': 37}\n",
      "The best accuracy achieved after parameter tuning via grid search is :  0.9464732366183092\n"
     ]
    }
   ],
   "source": [
    "from sklearn.model_selection import GridSearchCV\n",
    "#from sklearn.model_selection import GridSearchCV\n",
    "\n",
    "\n",
    "parameters = {'min_samples_split':np.arange(2, 80), 'max_depth': np.arange(2,10), 'criterion':['gini', 'entropy']}\n",
    "tree = DecisionTreeClassifier()\n",
    "grid = GridSearchCV(tree, parameters,scoring='accuracy', cv=8)\n",
    "\n",
    "grid.fit(train, train_target)\n",
    "print('The parameters combination that would give best accuracy is : ')\n",
    "print(grid.best_params_)\n",
    "print('The best accuracy achieved after parameter tuning via grid search is : ', grid.best_score_)"
   ]
  },
  {
   "cell_type": "code",
   "execution_count": 53,
   "metadata": {},
   "outputs": [],
   "source": [
    "# enter optimized hyperparameters"
   ]
  },
  {
   "cell_type": "code",
   "execution_count": 54,
   "metadata": {},
   "outputs": [
    {
     "data": {
      "text/plain": [
       "DecisionTreeClassifier(class_weight=None, criterion='gini', max_depth=3,\n",
       "            max_features=None, max_leaf_nodes=None,\n",
       "            min_impurity_decrease=0.0, min_impurity_split=None,\n",
       "            min_samples_leaf=5, min_samples_split=5,\n",
       "            min_weight_fraction_leaf=0.0, presort=False, random_state=0,\n",
       "            splitter='best')"
      ]
     },
     "execution_count": 54,
     "metadata": {},
     "output_type": "execute_result"
    }
   ],
   "source": [
    "tree2 = DecisionTreeClassifier(criterion = 'gini', splitter='best', max_depth=3, min_samples_split=5, \n",
    "                              min_samples_leaf=5, min_weight_fraction_leaf=0.0,  random_state=0, \n",
    "                              max_leaf_nodes=None, min_impurity_decrease=0.0, min_impurity_split=None, class_weight=None,\n",
    "                              presort=False)\n",
    "\n",
    "tree2.fit (train,train_target)"
   ]
  },
  {
   "cell_type": "code",
   "execution_count": 55,
   "metadata": {},
   "outputs": [],
   "source": [
    "#rescore test with updated hyperparameters \n",
    "\n",
    "\n",
    "test_pred2 =  tree2.predict(test)"
   ]
  },
  {
   "cell_type": "code",
   "execution_count": 56,
   "metadata": {},
   "outputs": [
    {
     "data": {
      "text/plain": [
       "{0.9446107784431138,\n",
       " 'fscore: [0.96834902 0.77844311]',\n",
       " 'precision: [0.94176373 0.97014925]',\n",
       " 'recall: [0.99647887 0.65      ]',\n",
       " 'support: [568 100]'}"
      ]
     },
     "execution_count": 56,
     "metadata": {},
     "output_type": "execute_result"
    }
   ],
   "source": [
    "#recheck metrics based on grid search based hyperparameter settings \n",
    "\n",
    "precision, recall, fscore, support = score(test_target, test_pred2) \n",
    "\n",
    "precision = ('precision: {}'.format(precision)) \n",
    "recall = ('recall: {}'.format(recall)) \n",
    "fscore = ('fscore: {}'.format(fscore)) \n",
    "support = ('support: {}'.format(support))\n",
    "accuracy = accuracy_score(test_target, test_pred2, normalize=True)\n",
    "\n",
    "output = {accuracy, precision, recall, fscore, support}\n",
    "output"
   ]
  },
  {
   "cell_type": "code",
   "execution_count": 57,
   "metadata": {},
   "outputs": [
    {
     "name": "stdout",
     "output_type": "stream",
     "text": [
      "col_0     0   1\n",
      "Churn?         \n",
      "0       566   2\n",
      "1        35  65\n"
     ]
    }
   ],
   "source": [
    "# create confusion matrix for optimized algorithm  \n",
    "\n",
    "df_confusion = pd.crosstab(test_target, test_pred2)\n",
    "print (df_confusion)"
   ]
  },
  {
   "cell_type": "code",
   "execution_count": 58,
   "metadata": {},
   "outputs": [],
   "source": [
    "# code below to check model performance on validate - not currently working"
   ]
  },
  {
   "cell_type": "code",
   "execution_count": 59,
   "metadata": {},
   "outputs": [
    {
     "data": {
      "text/plain": [
       "{0.9446107784431138,\n",
       " 'fscore: [0.97792869 0.83116883]',\n",
       " 'precision: [0.95840266 0.98461538]',\n",
       " 'recall: [0.9982669  0.71910112]',\n",
       " 'support: [577  89]'}"
      ]
     },
     "execution_count": 59,
     "metadata": {},
     "output_type": "execute_result"
    }
   ],
   "source": [
    "estimator = tree2.fit (train,train_target)\n",
    "validate_pred2 =  tree2.predict(validate)\n",
    "precision, recall, fscore, support = score(validate_target, validate_pred2) \n",
    "\n",
    "precision = ('precision: {}'.format(precision)) \n",
    "recall = ('recall: {}'.format(recall)) \n",
    "fscore = ('fscore: {}'.format(fscore)) \n",
    "support = ('support: {}'.format(support))\n",
    "accuracy = accuracy_score(test_target, test_pred2, normalize=True)\n",
    "\n",
    "final_output = {accuracy, precision, recall, fscore, support}\n",
    "final_output"
   ]
  },
  {
   "cell_type": "markdown",
   "metadata": {},
   "source": [
    "# NAIVE BAYES"
   ]
  },
  {
   "cell_type": "markdown",
   "metadata": {},
   "source": [
    "Now on to the second classification model naive bayes"
   ]
  },
  {
   "cell_type": "code",
   "execution_count": 60,
   "metadata": {},
   "outputs": [
    {
     "name": "stdout",
     "output_type": "stream",
     "text": [
      "<class 'pandas.core.frame.DataFrame'>\n",
      "RangeIndex: 3333 entries, 0 to 3332\n",
      "Data columns (total 58 columns):\n",
      "Int'l Plan           3333 non-null int64\n",
      "VMail Plan           3333 non-null int64\n",
      "VMail Message        3333 non-null int64\n",
      "Churn?               3333 non-null int64\n",
      "Total Charge         3333 non-null int64\n",
      "Total Charge > 80    3333 non-null int64\n",
      "CustServ Calls >3    3333 non-null int64\n",
      "AK                   3333 non-null uint8\n",
      "AL                   3333 non-null uint8\n",
      "AR                   3333 non-null uint8\n",
      "AZ                   3333 non-null uint8\n",
      "CA                   3333 non-null uint8\n",
      "CO                   3333 non-null uint8\n",
      "CT                   3333 non-null uint8\n",
      "DC                   3333 non-null uint8\n",
      "DE                   3333 non-null uint8\n",
      "FL                   3333 non-null uint8\n",
      "GA                   3333 non-null uint8\n",
      "HI                   3333 non-null uint8\n",
      "IA                   3333 non-null uint8\n",
      "ID                   3333 non-null uint8\n",
      "IL                   3333 non-null uint8\n",
      "IN                   3333 non-null uint8\n",
      "KS                   3333 non-null uint8\n",
      "KY                   3333 non-null uint8\n",
      "LA                   3333 non-null uint8\n",
      "MA                   3333 non-null uint8\n",
      "MD                   3333 non-null uint8\n",
      "ME                   3333 non-null uint8\n",
      "MI                   3333 non-null uint8\n",
      "MN                   3333 non-null uint8\n",
      "MO                   3333 non-null uint8\n",
      "MS                   3333 non-null uint8\n",
      "MT                   3333 non-null uint8\n",
      "NC                   3333 non-null uint8\n",
      "ND                   3333 non-null uint8\n",
      "NE                   3333 non-null uint8\n",
      "NH                   3333 non-null uint8\n",
      "NJ                   3333 non-null uint8\n",
      "NM                   3333 non-null uint8\n",
      "NV                   3333 non-null uint8\n",
      "NY                   3333 non-null uint8\n",
      "OH                   3333 non-null uint8\n",
      "OK                   3333 non-null uint8\n",
      "OR                   3333 non-null uint8\n",
      "PA                   3333 non-null uint8\n",
      "RI                   3333 non-null uint8\n",
      "SC                   3333 non-null uint8\n",
      "SD                   3333 non-null uint8\n",
      "TN                   3333 non-null uint8\n",
      "TX                   3333 non-null uint8\n",
      "UT                   3333 non-null uint8\n",
      "VA                   3333 non-null uint8\n",
      "VT                   3333 non-null uint8\n",
      "WA                   3333 non-null uint8\n",
      "WI                   3333 non-null uint8\n",
      "WV                   3333 non-null uint8\n",
      "WY                   3333 non-null uint8\n",
      "dtypes: int64(7), uint8(51)\n",
      "memory usage: 348.4 KB\n"
     ]
    }
   ],
   "source": [
    "#verify categorical data converted to numeric\n",
    "df.info()"
   ]
  },
  {
   "cell_type": "markdown",
   "metadata": {},
   "source": [
    "## A) Gaussian Model"
   ]
  },
  {
   "cell_type": "code",
   "execution_count": 61,
   "metadata": {},
   "outputs": [],
   "source": [
    "#import library for Gaussian Naive Bayes \n",
    "from sklearn.naive_bayes import GaussianNB, BernoulliNB \n",
    "\n",
    "#set the classifier\n",
    "gnb = GaussianNB()\n",
    "\n",
    "#set features\n",
    "used_features = [\"Int'l Plan\", \"VMail Plan\", \"Total Charge > 80\", \"CustServ Calls >3\"]"
   ]
  },
  {
   "cell_type": "code",
   "execution_count": 62,
   "metadata": {},
   "outputs": [
    {
     "name": "stdout",
     "output_type": "stream",
     "text": [
      "Number of mislabeled points out of a total 668 points : 91, performance 86.38%.\n"
     ]
    }
   ],
   "source": [
    "#train classifier\n",
    "gnb.fit(train[used_features].values, train_target)\n",
    "\n",
    "response_var = gnb.predict(validate[used_features])\n",
    "\n",
    "#print results\n",
    "\n",
    "print(\"Number of mislabeled points out of a total {} points : {}, performance {:05.2f}%.\"\n",
    "      .format(\n",
    "          test.shape[0],\n",
    "          (validate_target != response_var).sum(),\n",
    "          100*(1-(validate_target != response_var).sum()/test.shape[0])))"
   ]
  },
  {
   "cell_type": "code",
   "execution_count": 63,
   "metadata": {},
   "outputs": [],
   "source": [
    "#import libraries for model evaluation\n",
    "from sklearn.metrics import classification_report\n",
    "from sklearn.metrics import confusion_matrix\n",
    "from sklearn.metrics import accuracy_score\n",
    "from sklearn import metrics"
   ]
  },
  {
   "cell_type": "code",
   "execution_count": 64,
   "metadata": {},
   "outputs": [
    {
     "name": "stdout",
     "output_type": "stream",
     "text": [
      "              precision    recall  f1-score   support\n",
      "\n",
      "           0       0.94      0.90      0.92       577\n",
      "           1       0.49      0.61      0.54        89\n",
      "\n",
      "   micro avg       0.86      0.86      0.86       666\n",
      "   macro avg       0.71      0.75      0.73       666\n",
      "weighted avg       0.88      0.86      0.87       666\n",
      "\n"
     ]
    }
   ],
   "source": [
    "#model evaluation\n",
    "print(metrics.classification_report(validate_target, response_var))"
   ]
  },
  {
   "cell_type": "code",
   "execution_count": 65,
   "metadata": {},
   "outputs": [
    {
     "name": "stdout",
     "output_type": "stream",
     "text": [
      "[[521  56]\n",
      " [ 35  54]]\n"
     ]
    }
   ],
   "source": [
    "#confusion matrix\n",
    "print(metrics.confusion_matrix(validate_target, response_var))"
   ]
  },
  {
   "cell_type": "code",
   "execution_count": 66,
   "metadata": {},
   "outputs": [
    {
     "name": "stderr",
     "output_type": "stream",
     "text": [
      "C:\\Users\\benpo\\Anaconda3\\lib\\site-packages\\scipy\\stats\\stats.py:1713: FutureWarning: Using a non-tuple sequence for multidimensional indexing is deprecated; use `arr[tuple(seq)]` instead of `arr[seq]`. In the future this will be interpreted as an array index, `arr[np.array(seq)]`, which will result either in an error or a different result.\n",
      "  return np.add.reduce(sorted[indexer] * weights, axis=axis) / sumval\n"
     ]
    },
    {
     "data": {
      "text/plain": [
       "<matplotlib.axes._subplots.AxesSubplot at 0x24a5f66afd0>"
      ]
     },
     "execution_count": 66,
     "metadata": {},
     "output_type": "execute_result"
    },
    {
     "data": {
      "image/png": "[encoded data removed]",
      "text/plain": [
       "<Figure size 432x288 with 1 Axes>"
      ]
     },
     "metadata": {
      "needs_background": "light"
     },
     "output_type": "display_data"
    }
   ],
   "source": [
    "# consider the distribution of the features\n",
    "\n",
    "sns.distplot(df[\"Int'l Plan\"])"
   ]
  },
  {
   "cell_type": "code",
   "execution_count": 67,
   "metadata": {},
   "outputs": [
    {
     "name": "stderr",
     "output_type": "stream",
     "text": [
      "C:\\Users\\benpo\\Anaconda3\\lib\\site-packages\\scipy\\stats\\stats.py:1713: FutureWarning: Using a non-tuple sequence for multidimensional indexing is deprecated; use `arr[tuple(seq)]` instead of `arr[seq]`. In the future this will be interpreted as an array index, `arr[np.array(seq)]`, which will result either in an error or a different result.\n",
      "  return np.add.reduce(sorted[indexer] * weights, axis=axis) / sumval\n"
     ]
    },
    {
     "data": {
      "text/plain": [
       "<matplotlib.axes._subplots.AxesSubplot at 0x24a5f640438>"
      ]
     },
     "execution_count": 67,
     "metadata": {},
     "output_type": "execute_result"
    },
    {
     "data": {
      "image/png": "[encoded data removed]",
      "text/plain": [
       "<Figure size 432x288 with 1 Axes>"
      ]
     },
     "metadata": {
      "needs_background": "light"
     },
     "output_type": "display_data"
    }
   ],
   "source": [
    "sns.distplot(df[\"VMail Plan\"])"
   ]
  },
  {
   "cell_type": "code",
   "execution_count": 68,
   "metadata": {},
   "outputs": [
    {
     "name": "stderr",
     "output_type": "stream",
     "text": [
      "C:\\Users\\benpo\\Anaconda3\\lib\\site-packages\\scipy\\stats\\stats.py:1713: FutureWarning: Using a non-tuple sequence for multidimensional indexing is deprecated; use `arr[tuple(seq)]` instead of `arr[seq]`. In the future this will be interpreted as an array index, `arr[np.array(seq)]`, which will result either in an error or a different result.\n",
      "  return np.add.reduce(sorted[indexer] * weights, axis=axis) / sumval\n"
     ]
    },
    {
     "data": {
      "text/plain": [
       "<matplotlib.axes._subplots.AxesSubplot at 0x24a5f4f8f60>"
      ]
     },
     "execution_count": 68,
     "metadata": {},
     "output_type": "execute_result"
    },
    {
     "data": {
      "image/png": "[encoded data removed]",
      "text/plain": [
       "<Figure size 432x288 with 1 Axes>"
      ]
     },
     "metadata": {
      "needs_background": "light"
     },
     "output_type": "display_data"
    }
   ],
   "source": [
    "sns.distplot(df[\"Total Charge > 80\"])"
   ]
  },
  {
   "cell_type": "code",
   "execution_count": 69,
   "metadata": {},
   "outputs": [
    {
     "name": "stderr",
     "output_type": "stream",
     "text": [
      "C:\\Users\\benpo\\Anaconda3\\lib\\site-packages\\scipy\\stats\\stats.py:1713: FutureWarning: Using a non-tuple sequence for multidimensional indexing is deprecated; use `arr[tuple(seq)]` instead of `arr[seq]`. In the future this will be interpreted as an array index, `arr[np.array(seq)]`, which will result either in an error or a different result.\n",
      "  return np.add.reduce(sorted[indexer] * weights, axis=axis) / sumval\n"
     ]
    },
    {
     "data": {
      "text/plain": [
       "<matplotlib.axes._subplots.AxesSubplot at 0x24a5f6f0630>"
      ]
     },
     "execution_count": 69,
     "metadata": {},
     "output_type": "execute_result"
    },
    {
     "data": {
      "image/png": "[encoded data removed]",
      "text/plain": [
       "<Figure size 432x288 with 1 Axes>"
      ]
     },
     "metadata": {
      "needs_background": "light"
     },
     "output_type": "display_data"
    }
   ],
   "source": [
    "sns.distplot(df[\"CustServ Calls >3\"])"
   ]
  },
  {
   "cell_type": "markdown",
   "metadata": {},
   "source": [
    "## B) Bernoulli"
   ]
  },
  {
   "cell_type": "markdown",
   "metadata": {},
   "source": [
    "Our selected features are 1s and 0s. Lets try the Bernoulli model."
   ]
  },
  {
   "cell_type": "code",
   "execution_count": 70,
   "metadata": {},
   "outputs": [
    {
     "name": "stdout",
     "output_type": "stream",
     "text": [
      "Number of mislabeled points out of a total 668 points : 80, performance 88.02%.\n"
     ]
    }
   ],
   "source": [
    "#set the classifier\n",
    "bnb = BernoulliNB()\n",
    "\n",
    "bnb.fit(train[used_features].values, train_target)\n",
    "\n",
    "bnb_response_var = bnb.predict(validate[used_features])\n",
    "\n",
    "#print results\n",
    "print(\"Number of mislabeled points out of a total {} points : {}, performance {:05.2f}%.\"\n",
    "      .format(\n",
    "          test.shape[0],\n",
    "          (validate_target != bnb_response_var).sum(),\n",
    "          100*(1-(validate_target != bnb_response_var).sum()/test.shape[0])))"
   ]
  },
  {
   "cell_type": "code",
   "execution_count": 71,
   "metadata": {},
   "outputs": [
    {
     "name": "stdout",
     "output_type": "stream",
     "text": [
      "              precision    recall  f1-score   support\n",
      "\n",
      "           0       0.88      0.99      0.93       577\n",
      "           1       0.74      0.16      0.26        89\n",
      "\n",
      "   micro avg       0.88      0.88      0.88       666\n",
      "   macro avg       0.81      0.57      0.60       666\n",
      "weighted avg       0.86      0.88      0.84       666\n",
      "\n"
     ]
    }
   ],
   "source": [
    "#model evaluation\n",
    "print(metrics.classification_report(validate_target, bnb_response_var))"
   ]
  },
  {
   "cell_type": "code",
   "execution_count": 72,
   "metadata": {},
   "outputs": [
    {
     "name": "stdout",
     "output_type": "stream",
     "text": [
      "[[572   5]\n",
      " [ 75  14]]\n"
     ]
    }
   ],
   "source": [
    "#confusion matrix\n",
    "print(metrics.confusion_matrix(validate_target, bnb_response_var))"
   ]
  },
  {
   "cell_type": "markdown",
   "metadata": {},
   "source": [
    "## C) Model Selection"
   ]
  },
  {
   "cell_type": "code",
   "execution_count": 74,
   "metadata": {},
   "outputs": [
    {
     "data": {
      "image/png": "[encoded data removed]",
      "text/plain": [
       "<Figure size 576x396 with 2 Axes>"
      ]
     },
     "metadata": {},
     "output_type": "display_data"
    }
   ],
   "source": [
    "#Gaussian Classification Report\n",
    "from yellowbrick.classifier import ClassificationReport\n",
    "\n",
    "visualizer = ClassificationReport(gnb,support=True)\n",
    "\n",
    "visualizer.fit(train[used_features], train_target)  # Fit the visualizer and the model\n",
    "visualizer.score(validate[used_features], validate_target)  # Evaluate the model on the test data\n",
    "g = visualizer.poof()  "
   ]
  },
  {
   "cell_type": "code",
   "execution_count": 75,
   "metadata": {},
   "outputs": [
    {
     "data": {
      "image/png": "[encoded data removed]",
      "text/plain": [
       "<Figure size 576x396 with 2 Axes>"
      ]
     },
     "metadata": {},
     "output_type": "display_data"
    }
   ],
   "source": [
    "#Bernoulli Classification Report\n",
    "from yellowbrick.classifier import ClassificationReport\n",
    "\n",
    "visualizer = ClassificationReport(bnb,support=True)\n",
    "\n",
    "visualizer.fit(train[used_features], train_target)  # Fit the visualizer and the model\n",
    "visualizer.score(validate[used_features], validate_target)  # Evaluate the model on the test data\n",
    "g = visualizer.poof()  "
   ]
  },
  {
   "cell_type": "markdown",
   "metadata": {},
   "source": [
    "## D) Bernoulli and the Test Set"
   ]
  },
  {
   "cell_type": "code",
   "execution_count": 76,
   "metadata": {},
   "outputs": [
    {
     "data": {
      "image/png": "[encoded data removed]",
      "text/plain": [
       "<Figure size 576x396 with 2 Axes>"
      ]
     },
     "metadata": {},
     "output_type": "display_data"
    }
   ],
   "source": [
    "#Classification Report\n",
    "from yellowbrick.classifier import ClassificationReport\n",
    "\n",
    "visualizer = ClassificationReport(bnb,support=True)\n",
    "\n",
    "visualizer.fit(train[used_features], train_target)  # Fit the visualizer and the model\n",
    "visualizer.score(test[used_features], test_target)  # Evaluate the model on the test data\n",
    "g = visualizer.poof()  "
   ]
  },
  {
   "cell_type": "code",
   "execution_count": 77,
   "metadata": {},
   "outputs": [
    {
     "name": "stdout",
     "output_type": "stream",
     "text": [
      "Number of mislabeled points out of a total 668 points : 93, performance 86.08%.\n"
     ]
    }
   ],
   "source": [
    "bnb.fit(train[used_features].values, train_target)\n",
    "\n",
    "bnb_predicted_test = bnb.predict(test[used_features])\n",
    "\n",
    "#print results\n",
    "print(\"Number of mislabeled points out of a total {} points : {}, performance {:05.2f}%.\"\n",
    "      .format(\n",
    "          test.shape[0],\n",
    "          (test_target != bnb_predicted_test).sum(),\n",
    "          100*(1-(test_target != bnb_predicted_test).sum()/test.shape[0])))"
   ]
  },
  {
   "cell_type": "markdown",
   "metadata": {},
   "source": [
    "# RANDOM FOREST"
   ]
  },
  {
   "cell_type": "markdown",
   "metadata": {},
   "source": [
    "The third and final model considered was random forest."
   ]
  },
  {
   "cell_type": "code",
   "execution_count": 78,
   "metadata": {},
   "outputs": [],
   "source": [
    "from sklearn.ensemble import RandomForestClassifier"
   ]
  },
  {
   "cell_type": "markdown",
   "metadata": {},
   "source": [
    "## A) Initilize Random Forest Classifier & Initial fit"
   ]
  },
  {
   "cell_type": "code",
   "execution_count": 79,
   "metadata": {},
   "outputs": [],
   "source": [
    "rf = RandomForestClassifier(n_estimators=100, criterion='gini', max_depth=3, min_samples_split=19, \n",
    "       min_samples_leaf=50, min_weight_fraction_leaf=0.0, max_features='auto', max_leaf_nodes=None,\n",
    "       min_impurity_decrease=0.0, min_impurity_split=None, bootstrap=True, oob_score=False,\n",
    "       n_jobs=None, random_state=42, verbose=0, warm_start=False, class_weight=None)"
   ]
  },
  {
   "cell_type": "code",
   "execution_count": 80,
   "metadata": {},
   "outputs": [
    {
     "data": {
      "text/plain": [
       "RandomForestClassifier(bootstrap=True, class_weight=None, criterion='gini',\n",
       "            max_depth=3, max_features='auto', max_leaf_nodes=None,\n",
       "            min_impurity_decrease=0.0, min_impurity_split=None,\n",
       "            min_samples_leaf=50, min_samples_split=19,\n",
       "            min_weight_fraction_leaf=0.0, n_estimators=100, n_jobs=None,\n",
       "            oob_score=False, random_state=42, verbose=0, warm_start=False)"
      ]
     },
     "execution_count": 80,
     "metadata": {},
     "output_type": "execute_result"
    }
   ],
   "source": [
    "rf.fit(train, train_target)"
   ]
  },
  {
   "cell_type": "code",
   "execution_count": 81,
   "metadata": {},
   "outputs": [],
   "source": [
    "test_pred = rf.predict(test)"
   ]
  },
  {
   "cell_type": "markdown",
   "metadata": {},
   "source": [
    "## B) Instantiate performace metrics"
   ]
  },
  {
   "cell_type": "code",
   "execution_count": 82,
   "metadata": {},
   "outputs": [
    {
     "name": "stderr",
     "output_type": "stream",
     "text": [
      "C:\\Users\\benpo\\Anaconda3\\lib\\site-packages\\sklearn\\metrics\\classification.py:1143: UndefinedMetricWarning: Precision and F-score are ill-defined and being set to 0.0 in labels with no predicted samples.\n",
      "  'precision', 'predicted', average, warn_for)\n"
     ]
    },
    {
     "data": {
      "text/plain": [
       "{('fscore: [0.91909385 0.        ]',),\n",
       " ('precision: [0.8502994 0.       ]',),\n",
       " ('recall: [1. 0.]',),\n",
       " ('support: [568 100]',),\n",
       " 0.8502994011976048}"
      ]
     },
     "execution_count": 82,
     "metadata": {},
     "output_type": "execute_result"
    }
   ],
   "source": [
    "precision, recall, fscore, support = score(test_target, test_pred)\n",
    "precision = ('precision: {}'.format(precision)),\n",
    "recall = ('recall: {}'.format(recall)),\n",
    "fscore = ('fscore: {}'.format(fscore)),\n",
    "support = ('support: {}'.format(support)),\n",
    "accuracy = accuracy_score(test_target, test_pred, normalize=True)\n",
    "output = {accuracy, precision, recall, fscore, support}\n",
    "output"
   ]
  },
  {
   "cell_type": "code",
   "execution_count": 83,
   "metadata": {},
   "outputs": [
    {
     "name": "stdout",
     "output_type": "stream",
     "text": [
      "col_0     0\n",
      "Churn?     \n",
      "0       568\n",
      "1       100\n"
     ]
    }
   ],
   "source": [
    "df_confusion = pd.crosstab(test_target, test_pred)\n",
    "print (df_confusion)"
   ]
  },
  {
   "cell_type": "code",
   "execution_count": 84,
   "metadata": {},
   "outputs": [],
   "source": [
    "from sklearn.model_selection import GridSearchCV"
   ]
  },
  {
   "cell_type": "code",
   "execution_count": 85,
   "metadata": {},
   "outputs": [
    {
     "name": "stderr",
     "output_type": "stream",
     "text": [
      "C:\\Users\\benpo\\Anaconda3\\lib\\site-packages\\sklearn\\metrics\\classification.py:1143: UndefinedMetricWarning: Precision and F-score are ill-defined and being set to 0.0 in labels with no predicted samples.\n",
      "  'precision', 'predicted', average, warn_for)\n"
     ]
    },
    {
     "data": {
      "text/plain": [
       "{0.8502994011976048,\n",
       " 'fscore: [0.91909385 0.        ]',\n",
       " 'precision: [0.8502994 0.       ]',\n",
       " 'recall: [1. 0.]',\n",
       " 'support: [568 100]'}"
      ]
     },
     "execution_count": 85,
     "metadata": {},
     "output_type": "execute_result"
    }
   ],
   "source": [
    "precision, recall, fscore, support = score(test_target, test_pred) \n",
    "precision = ('precision: {}'.format(precision)) \n",
    "recall = ('recall: {}'.format(recall)) \n",
    "fscore = ('fscore: {}'.format(fscore)) \n",
    "support = ('support: {}'.format(support))\n",
    "accuracy = accuracy_score(test_target, test_pred, normalize=True)\n",
    "\n",
    "output = {accuracy, precision, recall, fscore, support}\n",
    "output"
   ]
  },
  {
   "cell_type": "code",
   "execution_count": 86,
   "metadata": {},
   "outputs": [
    {
     "name": "stdout",
     "output_type": "stream",
     "text": [
      "col_0     0\n",
      "Churn?     \n",
      "0       568\n",
      "1       100\n"
     ]
    }
   ],
   "source": [
    "print(df_confusion)"
   ]
  },
  {
   "cell_type": "markdown",
   "metadata": {},
   "source": [
    "## C) Grid Search for optimized parameters"
   ]
  },
  {
   "cell_type": "code",
   "execution_count": 87,
   "metadata": {},
   "outputs": [
    {
     "data": {
      "text/plain": [
       "GridSearchCV(cv=4, error_score='raise-deprecating',\n",
       "       estimator=RandomForestClassifier(bootstrap=True, class_weight=None, criterion='gini',\n",
       "            max_depth=3, max_features='auto', max_leaf_nodes=None,\n",
       "            min_impurity_decrease=0.0, min_impurity_split=None,\n",
       "            min_samples_leaf=50, min_samples_split=19,\n",
       "            min_weight_fraction_leaf=0.0, n_estimators=100, n_jobs=None,\n",
       "            oob_score=False, random_state=42, verbose=0, warm_start=False),\n",
       "       fit_params=None, iid='warn', n_jobs=None,\n",
       "       param_grid={'max_features': ['auto', 'sqrt', 'log2', 0.9, 0.2], 'max_depth': [2, 4, 6, 8, 10], 'criterion': ['gini', 'entropy'], 'min_samples_leaf': [1, 2, 3]},\n",
       "       pre_dispatch='2*n_jobs', refit=True, return_train_score='warn',\n",
       "       scoring='accuracy', verbose=0)"
      ]
     },
     "execution_count": 87,
     "metadata": {},
     "output_type": "execute_result"
    }
   ],
   "source": [
    "parameters = {#'n_estimators': [500,1000,1500,2000],\n",
    "             'max_features': ['auto', 'sqrt', 'log2', .9, .2],\n",
    "             'max_depth': [2,4,6,8,10],\n",
    "             'criterion':['gini','entropy'],\n",
    "             # 'boostrap': [True, False],\n",
    "              'min_samples_leaf':[1,2,3]\n",
    "             }\n",
    "rand_for = RandomForestClassifier()\n",
    "grid = GridSearchCV(rf, parameters, scoring='accuracy', cv=4)\n",
    "grid.fit(train, train_target)"
   ]
  },
  {
   "cell_type": "markdown",
   "metadata": {},
   "source": [
    "The optimized parameters are:"
   ]
  },
  {
   "cell_type": "code",
   "execution_count": 88,
   "metadata": {},
   "outputs": [
    {
     "name": "stdout",
     "output_type": "stream",
     "text": [
      "{'criterion': 'gini', 'max_depth': 4, 'max_features': 0.9, 'min_samples_leaf': 1}\n",
      "0.9449724862431216\n"
     ]
    }
   ],
   "source": [
    "print(grid.best_params_)\n",
    "print(grid.best_score_)"
   ]
  },
  {
   "cell_type": "markdown",
   "metadata": {},
   "source": [
    "## D) Insert new parameters. Fit & Train Model"
   ]
  },
  {
   "cell_type": "code",
   "execution_count": 102,
   "metadata": {},
   "outputs": [
    {
     "data": {
      "text/plain": [
       "RandomForestClassifier(bootstrap='auto', class_weight=None, criterion='gini',\n",
       "            max_depth=6, max_features=0.9, max_leaf_nodes=None,\n",
       "            min_impurity_decrease=0.0, min_impurity_split=None,\n",
       "            min_samples_leaf=2, min_samples_split=2,\n",
       "            min_weight_fraction_leaf=0.0, n_estimators=2000, n_jobs=None,\n",
       "            oob_score=False, random_state=42, verbose=0, warm_start=False)"
      ]
     },
     "execution_count": 102,
     "metadata": {},
     "output_type": "execute_result"
    }
   ],
   "source": [
    "rf = RandomForestClassifier(n_estimators=2000, criterion='gini', max_depth=6, min_samples_split=2, \n",
    "       min_samples_leaf=2, min_weight_fraction_leaf=0.0, max_features=0.9, max_leaf_nodes=None,\n",
    "       min_impurity_decrease=0.0, min_impurity_split=None, bootstrap='auto', oob_score=False,\n",
    "       n_jobs=None, random_state=42, verbose=0, warm_start=False, class_weight=None)\n",
    "rf.fit(train,train_target)"
   ]
  },
  {
   "cell_type": "code",
   "execution_count": 103,
   "metadata": {},
   "outputs": [],
   "source": [
    "rf_pred = rf.predict(test)"
   ]
  },
  {
   "cell_type": "markdown",
   "metadata": {},
   "source": [
    "## E) Re-test performance metrics"
   ]
  },
  {
   "cell_type": "code",
   "execution_count": 104,
   "metadata": {},
   "outputs": [
    {
     "data": {
      "text/plain": [
       "{0.9446107784431138,\n",
       " 'fscore: [0.96829477 0.78106509]',\n",
       " 'precision: [0.94323873 0.95652174]',\n",
       " 'recall: [0.99471831 0.66      ]',\n",
       " 'support: [568 100]'}"
      ]
     },
     "execution_count": 104,
     "metadata": {},
     "output_type": "execute_result"
    }
   ],
   "source": [
    "precision, recall, fscore, support = score(test_target, rf_pred) \n",
    "\n",
    "precision = ('precision: {}'.format(precision)) \n",
    "recall = ('recall: {}'.format(recall)) \n",
    "fscore = ('fscore: {}'.format(fscore)) \n",
    "support = ('support: {}'.format(support))\n",
    "accuracy = accuracy_score(test_target, rf_pred, normalize=True)\n",
    "\n",
    "output = {accuracy, precision, recall, fscore, support}\n",
    "output"
   ]
  },
  {
   "cell_type": "code",
   "execution_count": 105,
   "metadata": {},
   "outputs": [
    {
     "name": "stdout",
     "output_type": "stream",
     "text": [
      "col_0     0   1\n",
      "Churn?         \n",
      "0       565   3\n",
      "1        34  66\n"
     ]
    }
   ],
   "source": [
    "df_confusion = pd.crosstab(test_target, rf_pred)\n",
    "print (df_confusion)"
   ]
  },
  {
   "cell_type": "markdown",
   "metadata": {},
   "source": [
    "## F) Evaluate performance on validation set"
   ]
  },
  {
   "cell_type": "code",
   "execution_count": 106,
   "metadata": {},
   "outputs": [
    {
     "data": {
      "text/plain": [
       "{0.960960960960961,\n",
       " 'fscore: [0.97792869 0.83116883]',\n",
       " 'precision: [0.95840266 0.98461538]',\n",
       " 'recall: [0.9982669  0.71910112]',\n",
       " 'support: [577  89]'}"
      ]
     },
     "execution_count": 106,
     "metadata": {},
     "output_type": "execute_result"
    }
   ],
   "source": [
    "rf_pred = rf.predict(validate)\n",
    "precision, recall, fscore, support = score(validate_target, rf_pred) \n",
    "precision = ('precision: {}'.format(precision)) \n",
    "recall = ('recall: {}'.format(recall)) \n",
    "fscore = ('fscore: {}'.format(fscore)) \n",
    "support = ('support: {}'.format(support))\n",
    "accuracy = accuracy_score(validate_target, rf_pred, normalize=True)\n",
    "output = {accuracy, precision, recall, fscore, support}\n",
    "output"
   ]
  },
  {
   "cell_type": "code",
   "execution_count": 107,
   "metadata": {},
   "outputs": [
    {
     "name": "stdout",
     "output_type": "stream",
     "text": [
      "col_0     0   1\n",
      "Churn?         \n",
      "0       576   1\n",
      "1        25  64\n"
     ]
    }
   ],
   "source": [
    "df_confusion = pd.crosstab(validate_target, rf_pred)\n",
    "print (df_confusion)"
   ]
  },
  {
   "cell_type": "markdown",
   "metadata": {},
   "source": [
    "## G) Determine most important features "
   ]
  },
  {
   "cell_type": "code",
   "execution_count": 108,
   "metadata": {},
   "outputs": [
    {
     "name": "stdout",
     "output_type": "stream",
     "text": [
      "Feature ranking:\n",
      "1. feature 3 (0.555415)\n",
      "2. feature 5 (0.153025)\n",
      "3. feature 0 (0.105762)\n",
      "4. feature 2 (0.084555)\n",
      "5. feature 1 (0.062942)\n"
     ]
    }
   ],
   "source": [
    "importances = rf.feature_importances_\n",
    "std = np.std([tree.feature_importances_ for tree in rf.estimators_],\n",
    "             axis=0)\n",
    "indices = np.argsort(importances)[::-1]\n",
    "\n",
    "print(\"Feature ranking:\")\n",
    "\n",
    "for f in range (5):\n",
    "    print(\"%d. feature %d (%f)\" % (f + 1, indices[f], importances[indices[f]]))\n"
   ]
  },
  {
   "cell_type": "code",
   "execution_count": 109,
   "metadata": {},
   "outputs": [
    {
     "data": {
      "text/plain": [
       "Index(['Int'l Plan', 'VMail Plan', 'VMail Message', 'Total Charge',\n",
       "       'Total Charge > 80', 'CustServ Calls >3', 'AK', 'AL', 'AR', 'AZ', 'CA',\n",
       "       'CO', 'CT', 'DC', 'DE', 'FL', 'GA', 'HI', 'IA', 'ID', 'IL', 'IN', 'KS',\n",
       "       'KY', 'LA', 'MA', 'MD', 'ME', 'MI', 'MN', 'MO', 'MS', 'MT', 'NC', 'ND',\n",
       "       'NE', 'NH', 'NJ', 'NM', 'NV', 'NY', 'OH', 'OK', 'OR', 'PA', 'RI', 'SC',\n",
       "       'SD', 'TN', 'TX', 'UT', 'VA', 'VT', 'WA', 'WI', 'WV', 'WY'],\n",
       "      dtype='object')"
      ]
     },
     "execution_count": 109,
     "metadata": {},
     "output_type": "execute_result"
    }
   ],
   "source": [
    "train.columns"
   ]
  },
  {
   "cell_type": "markdown",
   "metadata": {},
   "source": [
    "We see that the following feature ranking of importance for the Random Forest:\n",
    "1. Total Charge (55.54%)\n",
    "2. CustServ Calls >3 (15.30%)\n",
    "3. Int'l Plan (10.58%)\n",
    "4. VMail Messages (8.45%)\n",
    "5. VMail Plan (6.29)\n"
   ]
  },
  {
   "cell_type": "code",
   "execution_count": null,
   "metadata": {},
   "outputs": [],
   "source": []
  }
 ],
 "metadata": {
  "kernelspec": {
   "display_name": "Python 3",
   "language": "python",
   "name": "python3"
  },
  "language_info": {
   "codemirror_mode": {
    "name": "ipython",
    "version": 3
   },
   "file_extension": ".py",
   "mimetype": "text/x-python",
   "name": "python",
   "nbconvert_exporter": "python",
   "pygments_lexer": "ipython3",
   "version": "3.6.6"
  }
 },
 "nbformat": 4,
 "nbformat_minor": 2
}
